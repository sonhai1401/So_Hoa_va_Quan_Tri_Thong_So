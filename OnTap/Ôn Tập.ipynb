{
 "cells": [
  {
   "cell_type": "markdown",
   "metadata": {},
   "source": [
    "# BÀI ÔN TẬP THI CUỐI HỌC KỲ"
   ]
  },
  {
   "cell_type": "markdown",
   "metadata": {},
   "source": [
    "## 1. Tạo bộ dữ liệu\n",
    "\n",
    "Bộ dữ liệu về thông tin khách hàng mua sắm bao gồm các cột:\n",
    "- **ID**: Mã khách hàng (số nguyên, không thiếu).\n",
    "- **Age**: Tuổi (số nguyên, một số giá trị thiếu).\n",
    "- **Income**: Thu nhập hàng năm (USD, một số giá trị thiếu).\n",
    "- **Spending_Score**: Điểm chi tiêu (0-100, một số giá trị thiếu).\n",
    "- **Purchased**: Đã mua hàng hay chưa (0 = không, 1 = có, nhãn cần dự đoán).\n",
    "\n",
    "Dữ liệu mẫu:\n",
    "\n",
    "| ID  | Age | Income | Spending_Score | Purchased |\n",
    "|-----|-----|--------|----------------|-----------|\n",
    "| 1   | 25  | 30000  | 45             | 0         |\n",
    "| 2   |     | 45000  | 60             | 1         |\n",
    "| 3   | 30  |        | 70             | 1         |\n",
    "| 4   | 45  | 60000  |                | 0         |\n",
    "| 5   | 28  | 35000  | 55             | 1         |\n",
    "| 6   |     | 50000  | 65             | 0         |\n",
    "| 7   | 35  | 70000  | 80             | 1         |\n",
    "| 8   | 50  |        | 40             | 0         |\n",
    "| 9   | 22  | 25000  |                | 1         |\n",
    "| 10  | 40  | 80000  | 90             | 1         |\n",
    "| 11  | 33  | 55000  | 50             | 0         |\n",
    "| 12  |     | 40000  | 75             | 1         |\n",
    "| 13  | 27  | 65000  |                | 0         |\n",
    "| 14  | 48  |        | 85             | 1         |\n",
    "| 15  | 29  | 32000  | 60             | 0         |\n",
    "| 16  | 38  | 72000  | 70             | 1         |\n",
    "| 17  |     | 48000  | 45             | 0         |\n",
    "| 18  | 42  | 58000  |                | 1         |\n",
    "| 19  | 31  | 36000  | 55             | 0         |\n",
    "| 20  | 46  |        | 95             | 1         |\n",
    "| 21  | 24  | 29000  | 65             | 0         |\n",
    "| 22  | 37  | 67000  | 75             | 1         |\n",
    "| 23  |     | 43000  | 50             | 0         |\n",
    "| 24  | 49  | 78000  |                | 1         |\n",
    "| 25  | 26  | 31000  | 85             | 0         |\n",
    "| 26  | 34  |        | 60             | 1         |\n",
    "| 27  | 41  | 62000  | 70             | 0         |\n",
    "| 28  | 23  | 27000  |                | 1         |\n",
    "| 29  |     | 53000  | 80             | 0         |\n",
    "| 30  | 47  | 74000  | 90             | 1         |\n",
    "| 31  | 32  | 39000  | 45             | 0         |\n",
    "| 32  | 39  |        | 55             | 1         |\n",
    "| 33  | 28  | 46000  | 65             | 0         |\n",
    "| 34  | 44  | 69000  |                | 1         |\n",
    "| 35  |     | 34000  | 75             | 0         |\n",
    "| 36  | 36  | 57000  | 85             | 1         |\n",
    "| 37  | 25  | 28000  | 50             | 0         |\n",
    "| 38  | 50  |        | 95             | 1         |\n",
    "| 39  | 31  | 41000  | 60             | 0         |\n",
    "| 40  | 43  | 76000  |                | 1         |\n",
    "| 41  |     | 33000  | 70             | 0         |\n",
    "| 42  | 29  | 59000  | 80             | 1         |\n",
    "| 43  | 35  | 47000  | 45             | 0         |\n",
    "| 44  | 48  |        | 55             | 1         |\n",
    "| 45  | 27  | 37000  | 65             | 0         |\n",
    "| 46  | 40  | 68000  |                | 1         |\n",
    "| 47  | 33  | 52000  | 75             | 0         |\n",
    "| 48  |     | 30000  | 85             | 1         |\n",
    "| 49  | 46  | 71000  | 90             | 0         |\n",
    "| 50  | 24  |        | 50             | 1         |"
   ]
  },
  {
   "cell_type": "code",
   "execution_count": 1,
   "metadata": {},
   "outputs": [
    {
     "name": "stdout",
     "output_type": "stream",
     "text": [
      "   ID   Age   Income  Spending_Score  Purchased\n",
      "0   1  25.0  30000.0            45.0          0\n",
      "1   2   NaN  45000.0            60.0          1\n",
      "2   3  30.0      NaN            70.0          1\n",
      "3   4  45.0  60000.0             NaN          0\n",
      "4   5  28.0  35000.0            55.0          1\n",
      "5   6   NaN  50000.0            65.0          0\n",
      "6   7  35.0  70000.0            80.0          1\n",
      "7   8  50.0      NaN            40.0          0\n",
      "8   9  22.0  25000.0             NaN          1\n",
      "9  10  40.0  80000.0            90.0          1\n"
     ]
    }
   ],
   "source": [
    "import pandas as pd\n",
    "import numpy as np\n",
    "import matplotlib.pyplot as plt\n",
    "\n",
    "\n",
    "# Tạo dữ liệu 50 dòng\n",
    "data = {\n",
    "    \"ID\": np.arange(1, 51),\n",
    "    \"Age\": [25, np.nan, 30, 45, 28, np.nan, 35, 50, 22, 40, 33, np.nan, 27, 48, 29, 38, np.nan, 42, 31, 46, 24, 37, np.nan, 49, 26, 34, 41, 23, np.nan, 47, 32, 39, 28, 44, np.nan, 36, 25, 50, 31, 43, np.nan, 29, 35, 48, 27, 40, 33, np.nan, 46, 24],\n",
    "    \"Income\": [30000, 45000, np.nan, 60000, 35000, 50000, 70000, np.nan, 25000, 80000, 55000, 40000, 65000, np.nan, 32000, 72000, 48000, 58000, 36000, np.nan, 29000, 67000, 43000, 78000, 31000, np.nan, 62000, 27000, 53000, 74000, 39000, np.nan, 46000, 69000, 34000, 57000, 28000, np.nan, 41000, 76000, 33000, 59000, 47000, np.nan, 37000, 68000, 52000, 30000, 71000, np.nan],\n",
    "    \"Spending_Score\": [45, 60, 70, np.nan, 55, 65, 80, 40, np.nan, 90, 50, 75, np.nan, 85, 60, 70, 45, np.nan, 55, 95, 65, 75, 50, np.nan, 85, 60, 70, np.nan, 80, 90, 45, 55, 65, np.nan, 75, 85, 50, 95, 60, np.nan, 70, 80, 45, 55, 65, np.nan, 75, 85, 90, 50],\n",
    "    \"Purchased\": [0, 1, 1, 0, 1, 0, 1, 0, 1, 1, 0, 1, 0, 1, 0, 1, 0, 1, 0, 1, 0, 1, 0, 1, 0, 1, 0, 1, 0, 1, 0, 1, 0, 1, 0, 1, 0, 1, 0, 1, 0, 1, 0, 1, 0, 1, 0, 1, 0, 1]\n",
    "}\n",
    "# Tạo DataFrame\n",
    "df = pd.DataFrame(data)\n",
    "\n",
    "# Lưu thành file CSV\n",
    "df.to_csv('customer_data.csv', index=False)\n",
    "print(df.head(10))"
   ]
  },
  {
   "cell_type": "markdown",
   "metadata": {},
   "source": [
    "1. Tải dữ liệu từ file CSV.\n",
    "2. Xem thông tin tổng quan (số dòng, cột, kiểu dữ liệu).\n",
    "3. Đếm giá trị thiếu trong mỗi cột.\n",
    "4. Thống kê cơ bản (trung bình, trung vị, min, max).\n",
    "5. Phân bố nhãn `Purchased`."
   ]
  },
  {
   "cell_type": "code",
   "execution_count": 2,
   "metadata": {},
   "outputs": [
    {
     "name": "stdout",
     "output_type": "stream",
     "text": [
      "<class 'pandas.core.frame.DataFrame'>\n",
      "RangeIndex: 50 entries, 0 to 49\n",
      "Data columns (total 5 columns):\n",
      " #   Column          Non-Null Count  Dtype  \n",
      "---  ------          --------------  -----  \n",
      " 0   ID              50 non-null     int64  \n",
      " 1   Age             41 non-null     float64\n",
      " 2   Income          41 non-null     float64\n",
      " 3   Spending_Score  41 non-null     float64\n",
      " 4   Purchased       50 non-null     int64  \n",
      "dtypes: float64(3), int64(2)\n",
      "memory usage: 2.1 KB\n",
      "Xem thông tin tổng quan:  None\n",
      "Xem số dòng và cột:  (50, 5)\n",
      "Đếm giá trị thiếu mỗi cột:  ID                0\n",
      "Age               9\n",
      "Income            9\n",
      "Spending_Score    9\n",
      "Purchased         0\n",
      "dtype: int64\n",
      "Thống kê mô tả:              ID        Age        Income  Spending_Score  Purchased\n",
      "count  50.00000  41.000000     41.000000       41.000000  50.000000\n",
      "mean   25.50000  35.609756  50048.780488       67.317073   0.520000\n",
      "std    14.57738   8.622291  16613.174320       15.696240   0.504672\n",
      "min     1.00000  22.000000  25000.000000       40.000000   0.000000\n",
      "25%    13.25000  28.000000  35000.000000       55.000000   0.000000\n",
      "50%    25.50000  35.000000  48000.000000       65.000000   1.000000\n",
      "75%    37.75000  43.000000  65000.000000       80.000000   1.000000\n",
      "max    50.00000  50.000000  80000.000000       95.000000   1.000000\n"
     ]
    },
    {
     "data": {
      "image/png": "[encoded data removed]",
      "text/plain": [
       "<Figure size 600x400 with 1 Axes>"
      ]
     },
     "metadata": {},
     "output_type": "display_data"
    }
   ],
   "source": [
    "#code here\n",
    "df = pd.read_csv('customer_data.csv')\n",
    "print(\"Xem thông tin tổng quan: \",df.info())\n",
    "print(\"Xem số dòng và cột: \",df.shape)\n",
    "print(\"Đếm giá trị thiếu mỗi cột: \",df.isnull().sum())\n",
    "print(\"Thống kê mô tả:\", df.describe())\n",
    "\n",
    "# Vẽ biểu đồ phân bố nhãn Purchased\n",
    "plt.figure(figsize=(6, 4))\n",
    "df[\"Purchased\"].value_counts().plot(kind=\"bar\", color=[\"blue\", \"orange\"])\n",
    "plt.xlabel(\"Purchased (0: Không, 1: Có)\")\n",
    "plt.ylabel(\"Số lượng khách hàng\")\n",
    "plt.title(\"Phân bố nhãn Purchased\")\n",
    "plt.xticks(rotation=0)\n",
    "plt.grid(axis=\"y\", linestyle=\"--\", alpha=0.7)\n",
    "\n",
    "# Hiển thị biểu đồ\n",
    "plt.show()"
   ]
  },
  {
   "cell_type": "markdown",
   "metadata": {},
   "source": [
    "6. Xóa dòng có giá trị thiếu.\n",
    "7. Điền NaN trong `Age` bằng trung bình.\n",
    "8. Điền NaN trong `Income` bằng trung vị.\n",
    "9. Điền NaN trong `Spending_Score` bằng mode.\n",
    "10. Điền NaN bằng 0."
   ]
  },
  {
   "cell_type": "code",
   "execution_count": 3,
   "metadata": {},
   "outputs": [
    {
     "data": {
      "text/html": [
       "<div>\n",
       "<style scoped>\n",
       "    .dataframe tbody tr th:only-of-type {\n",
       "        vertical-align: middle;\n",
       "    }\n",
       "\n",
       "    .dataframe tbody tr th {\n",
       "        vertical-align: top;\n",
       "    }\n",
       "\n",
       "    .dataframe thead th {\n",
       "        text-align: right;\n",
       "    }\n",
       "</style>\n",
       "<table border=\"1\" class=\"dataframe\">\n",
       "  <thead>\n",
       "    <tr style=\"text-align: right;\">\n",
       "      <th></th>\n",
       "      <th>ID</th>\n",
       "      <th>Age</th>\n",
       "      <th>Income</th>\n",
       "      <th>Spending_Score</th>\n",
       "      <th>Purchased</th>\n",
       "    </tr>\n",
       "  </thead>\n",
       "  <tbody>\n",
       "    <tr>\n",
       "      <th>0</th>\n",
       "      <td>1</td>\n",
       "      <td>25.0</td>\n",
       "      <td>30000.0</td>\n",
       "      <td>45.0</td>\n",
       "      <td>0</td>\n",
       "    </tr>\n",
       "    <tr>\n",
       "      <th>4</th>\n",
       "      <td>5</td>\n",
       "      <td>28.0</td>\n",
       "      <td>35000.0</td>\n",
       "      <td>55.0</td>\n",
       "      <td>1</td>\n",
       "    </tr>\n",
       "    <tr>\n",
       "      <th>6</th>\n",
       "      <td>7</td>\n",
       "      <td>35.0</td>\n",
       "      <td>70000.0</td>\n",
       "      <td>80.0</td>\n",
       "      <td>1</td>\n",
       "    </tr>\n",
       "    <tr>\n",
       "      <th>9</th>\n",
       "      <td>10</td>\n",
       "      <td>40.0</td>\n",
       "      <td>80000.0</td>\n",
       "      <td>90.0</td>\n",
       "      <td>1</td>\n",
       "    </tr>\n",
       "    <tr>\n",
       "      <th>10</th>\n",
       "      <td>11</td>\n",
       "      <td>33.0</td>\n",
       "      <td>55000.0</td>\n",
       "      <td>50.0</td>\n",
       "      <td>0</td>\n",
       "    </tr>\n",
       "  </tbody>\n",
       "</table>\n",
       "</div>"
      ],
      "text/plain": [
       "    ID   Age   Income  Spending_Score  Purchased\n",
       "0    1  25.0  30000.0            45.0          0\n",
       "4    5  28.0  35000.0            55.0          1\n",
       "6    7  35.0  70000.0            80.0          1\n",
       "9   10  40.0  80000.0            90.0          1\n",
       "10  11  33.0  55000.0            50.0          0"
      ]
     },
     "execution_count": 3,
     "metadata": {},
     "output_type": "execute_result"
    }
   ],
   "source": [
    "#code here\n",
    "# Xoa dòng có giá trị thiếu\n",
    "df.dropna(inplace=True)\n",
    "df['Income'].fillna(df['Income'].mean(), inplace=True)\n",
    "df['Age'].fillna(df['Age'].median(), inplace=True)\n",
    "df['Spending_Score'].fillna(df['Spending_Score'].mode()[0], inplace=True)\n",
    "df.fillna(0, inplace=True)\n",
    "# Kiểm tra lại dữ liệu sau khi xử lý\n",
    "df.head()"
   ]
  },
  {
   "cell_type": "markdown",
   "metadata": {},
   "source": [
    "11. Chuẩn hóa Min-Max cho `Income` và `Spending_Score`.\n",
    "12. Chuẩn hóa Z-score cho `Age` và `Income`.\n",
    "13. Tạo cột `Income_per_Age`.\n",
    "14. Đảm bảo `Purchased` là kiểu số.\n",
    "15. Loại bỏ ngoại lệ `Income` > 100,000."
   ]
  },
  {
   "cell_type": "code",
   "execution_count": 5,
   "metadata": {},
   "outputs": [
    {
     "name": "stdout",
     "output_type": "stream",
     "text": [
      "    ID       Age    Income  Spending_Score  Purchased  Income_Age\n",
      "0    1 -1.243876 -1.216182        0.000000          0    1.512780\n",
      "4    5 -0.769691 -0.912137        0.222222          1    0.702064\n",
      "6    7  0.336740  1.216182        0.777778          1    0.409537\n",
      "9   10  1.127048  1.824274        1.000000          1    2.056044\n",
      "10  11  0.020617  0.304046        0.111111          0    0.006268\n",
      "14  15 -0.611630 -1.094564        0.333333          0    0.669468\n",
      "15  16  0.810925  1.337801        0.555556          1    1.084856\n",
      "18  19 -0.295506 -0.851328        0.222222          0    0.251573\n",
      "20  21 -1.401938 -1.276992        0.444444          0    1.790263\n",
      "21  22  0.652863  1.033755        0.666667          1    0.674901\n"
     ]
    }
   ],
   "source": [
    "#code here\n",
    "#Chuẩn hóa min max cho income và spending_score\n",
    "from sklearn.preprocessing import MinMaxScaler\n",
    "scaler = MinMaxScaler()\n",
    "df[['Income', 'Spending_Score']] = scaler.fit_transform(df[['Income', 'Spending_Score']])\n",
    "#Chuẩn hóa Z-score cho Age và Income\n",
    "from sklearn.preprocessing import StandardScaler\n",
    "scaler = StandardScaler()\n",
    "df[['Age']] = scaler.fit_transform(df[['Age']])\n",
    "df[['Income']] = scaler.fit_transform(df[['Income']])\n",
    "# Tạo cột Income_Age = Income * Age\n",
    "df['Income_Age'] = df['Income'] * df['Age']\n",
    "#Đảm bảo Purchased là kiểu số\n",
    "df['Purchased'] = df['Purchased'].astype(int)\n",
    "#Loại bỏ ngoại lệ Income > 100000\n",
    "df = df[df['Income'] <= 100000]\n",
    "#Xem lại dữ liệu sau khi xử lý\n",
    "print(df.head(10))"
   ]
  },
  {
   "cell_type": "markdown",
   "metadata": {},
   "source": [
    "16. Tính ma trận tương quan.\n",
    "17. Vẽ biểu đồ phân tán `Income` vs `Spending_Score`.\n",
    "18. Vẽ histogram cho `Age`.\n",
    "19. Vẽ boxplot cho `Income`.\n",
    "20. So sánh trung bình `Spending_Score` theo `Purchased`."
   ]
  },
  {
   "cell_type": "code",
   "execution_count": 6,
   "metadata": {},
   "outputs": [
    {
     "data": {
      "image/png": "[encoded data removed]",
      "text/plain": [
       "<Figure size 1000x800 with 2 Axes>"
      ]
     },
     "metadata": {},
     "output_type": "display_data"
    },
    {
     "data": {
      "image/png": "[encoded data removed]",
      "text/plain": [
       "<Figure size 600x400 with 1 Axes>"
      ]
     },
     "metadata": {},
     "output_type": "display_data"
    },
    {
     "data": {
      "image/png": "[encoded data removed]",
      "text/plain": [
       "<Figure size 600x400 with 1 Axes>"
      ]
     },
     "metadata": {},
     "output_type": "display_data"
    },
    {
     "name": "stdout",
     "output_type": "stream",
     "text": [
      "Trung bình Spending Score theo Purchased:\n",
      "Purchased\n",
      "0    0.370370\n",
      "1    0.736111\n",
      "Name: Spending_Score, dtype: float64\n"
     ]
    }
   ],
   "source": [
    "#code here\n",
    "# Tính ma trận tương quan\n",
    "correlation_matrix = df.corr()\n",
    "# Vẽ heatmap\n",
    "import seaborn as sns\n",
    "plt.figure(figsize=(10, 8))\n",
    "sns.heatmap(correlation_matrix, annot=True, cmap='coolwarm', fmt=\".2f\", linewidths=.5)\n",
    "plt.title(\"Ma trận tương quan\")\n",
    "plt.show()\n",
    "# Vẽ biểu đồ phân bố cho Age\n",
    "plt.figure(figsize=(6, 4))\n",
    "plt.hist(df['Age'], bins=20, color='skyblue', edgecolor='black')\n",
    "plt.xlabel(\"Age\")\n",
    "plt.ylabel(\"Số lượng khách hàng\")\n",
    "plt.title(\"Phân bố độ tuổi\")\n",
    "plt.grid(axis=\"y\", linestyle=\"--\", alpha=0.7)\n",
    "plt.show()\n",
    "# Vẽ boxplot cho Income\n",
    "plt.figure(figsize=(6, 4))\n",
    "sns.boxplot(x=df['Income'], color='lightgreen')\n",
    "plt.xlabel(\"Income\")\n",
    "plt.title(\"Boxplot cho Income\")\n",
    "plt.grid(axis=\"y\", linestyle=\"--\", alpha=0.7)\n",
    "plt.show()\n",
    "# So sasnnh trung bình speding score theo purchased\n",
    "purchased_mean = df.groupby('Purchased')['Spending_Score'].mean()\n",
    "print(\"Trung bình Spending Score theo Purchased:\")\n",
    "print(purchased_mean)"
   ]
  },
  {
   "cell_type": "markdown",
   "metadata": {},
   "source": [
    "Ứng dụng ANN để dự đoán\n",
    "\n",
    "Chúng ta sẽ xây dựng một mạng nơ-ron nhân tạo để dự đoán `Purchased` dựa trên `Age`, `Income`, và `Spending_Score`."
   ]
  },
  {
   "cell_type": "code",
   "execution_count": 6,
   "metadata": {},
   "outputs": [],
   "source": [
    "import pandas as pd\n",
    "import numpy as np\n",
    "import torch\n",
    "import torch.nn as nn\n",
    "import torch.optim as optim\n",
    "from sklearn.model_selection import train_test_split\n",
    "from sklearn.preprocessing import StandardScaler\n",
    "\n",
    "# 1. Chuẩn bị dữ liệu\n",
    "# Tải dữ liệu từ file CSV (giả sử đã xử lý NaN)\n",
    "df = pd.read_csv('customer_data.csv')\n",
    "\n",
    "# Điền NaN bằng trung bình (nếu chưa xử lý)\n",
    "df['Age'] = df['Age'].fillna(df['Age'].mean())\n",
    "df['Income'] = df['Income'].fillna(df['Income'].mean())\n",
    "df['Spending_Score'] = df['Spending_Score'].fillna(df['Spending_Score'].mean())\n",
    "\n",
    "# Tách đặc trưng (X) và nhãn (y)\n",
    "X = df[['Age','Income','Spending_Score']]\n",
    "y = df['Purchased']\n",
    "\n",
    "# Chuẩn hóa dữ liệu\n",
    "scaler = StandardScaler()\n",
    "X = scaler.fit_transform(X)\n",
    "\n",
    "# Chia tập train/test (80% and 20%)\n",
    "X_train, X_test, y_train, y_test = train_test_split(X, y, test_size=0.2, random_state=42)\n",
    "\n",
    "# Chuyển dữ liệu sang tensor của PyTorch\n",
    "X_train = torch.tensor(X_train, dtype=torch.float32)\n",
    "X_test = torch.tensor(X_test, dtype=torch.float32)\n",
    "y_train = torch.tensor(y_train.values, dtype=torch.float32).view(-1, 1)  # Reshape để phù hợp với đầu ra\n",
    "y_test = torch.tensor(y_test.values, dtype=torch.float32).view(-1, 1)\n"
   ]
  },
  {
   "cell_type": "code",
   "execution_count": 3,
   "metadata": {},
   "outputs": [
    {
     "data": {
      "text/html": [
       "<div>\n",
       "<style scoped>\n",
       "    .dataframe tbody tr th:only-of-type {\n",
       "        vertical-align: middle;\n",
       "    }\n",
       "\n",
       "    .dataframe tbody tr th {\n",
       "        vertical-align: top;\n",
       "    }\n",
       "\n",
       "    .dataframe thead th {\n",
       "        text-align: right;\n",
       "    }\n",
       "</style>\n",
       "<table border=\"1\" class=\"dataframe\">\n",
       "  <thead>\n",
       "    <tr style=\"text-align: right;\">\n",
       "      <th></th>\n",
       "      <th>ID</th>\n",
       "      <th>Age</th>\n",
       "      <th>Income</th>\n",
       "      <th>Spending_Score</th>\n",
       "      <th>Purchased</th>\n",
       "    </tr>\n",
       "  </thead>\n",
       "  <tbody>\n",
       "    <tr>\n",
       "      <th>0</th>\n",
       "      <td>1</td>\n",
       "      <td>25.000000</td>\n",
       "      <td>30000.000000</td>\n",
       "      <td>45.0</td>\n",
       "      <td>0</td>\n",
       "    </tr>\n",
       "    <tr>\n",
       "      <th>1</th>\n",
       "      <td>2</td>\n",
       "      <td>35.609756</td>\n",
       "      <td>45000.000000</td>\n",
       "      <td>60.0</td>\n",
       "      <td>1</td>\n",
       "    </tr>\n",
       "    <tr>\n",
       "      <th>2</th>\n",
       "      <td>3</td>\n",
       "      <td>30.000000</td>\n",
       "      <td>50048.780488</td>\n",
       "      <td>70.0</td>\n",
       "      <td>1</td>\n",
       "    </tr>\n",
       "    <tr>\n",
       "      <th>3</th>\n",
       "      <td>4</td>\n",
       "      <td>45.000000</td>\n",
       "      <td>60000.000000</td>\n",
       "      <td>NaN</td>\n",
       "      <td>0</td>\n",
       "    </tr>\n",
       "    <tr>\n",
       "      <th>4</th>\n",
       "      <td>5</td>\n",
       "      <td>28.000000</td>\n",
       "      <td>35000.000000</td>\n",
       "      <td>55.0</td>\n",
       "      <td>1</td>\n",
       "    </tr>\n",
       "  </tbody>\n",
       "</table>\n",
       "</div>"
      ],
      "text/plain": [
       "   ID        Age        Income  Spending_Score  Purchased\n",
       "0   1  25.000000  30000.000000            45.0          0\n",
       "1   2  35.609756  45000.000000            60.0          1\n",
       "2   3  30.000000  50048.780488            70.0          1\n",
       "3   4  45.000000  60000.000000             NaN          0\n",
       "4   5  28.000000  35000.000000            55.0          1"
      ]
     },
     "execution_count": 3,
     "metadata": {},
     "output_type": "execute_result"
    }
   ],
   "source": [
    "df.head()"
   ]
  },
  {
   "cell_type": "code",
   "execution_count": 7,
   "metadata": {},
   "outputs": [],
   "source": [
    "# 2. Xây dựng mô hình ANN\n",
    "class ANN(nn.Module):\n",
    "    def __init__(self, input_size):\n",
    "        super(ANN, self).__init__()\n",
    "        self.fc1 = nn.Linear(input_size, 16)  # Đầu vào có số đặc trưng là input_size (3)\n",
    "        self.relu1 = nn.ReLU()\n",
    "        self.fc2 = nn.Linear(16, 8)  # Lớp ẩn 1 có 16 nơ-ron, đầu ra 8 nơ-ron\n",
    "        self.relu2 = nn.ReLU()\n",
    "        self.fc3 = nn.Linear(8, 1)  # Lớp đầu ra có 1 nơ-ron (phân loại nhị phân)\n",
    "        self.sigmoid = nn.Sigmoid()  # Dùng sigmoid vì phân loại nhị phân\n",
    "\n",
    "    def forward(self, x):\n",
    "        x = self.fc1(x)\n",
    "        x = self.relu1(x)\n",
    "        x = self.fc2(x)\n",
    "        x = self.relu2(x)\n",
    "        x = self.fc3(x)\n",
    "        x = self.sigmoid(x)\n",
    "        return x\n"
   ]
  },
  {
   "cell_type": "code",
   "execution_count": 8,
   "metadata": {},
   "outputs": [
    {
     "name": "stdout",
     "output_type": "stream",
     "text": [
      "ANN(\n",
      "  (fc1): Linear(in_features=3, out_features=16, bias=True)\n",
      "  (relu1): ReLU()\n",
      "  (fc2): Linear(in_features=16, out_features=8, bias=True)\n",
      "  (relu2): ReLU()\n",
      "  (fc3): Linear(in_features=8, out_features=1, bias=True)\n",
      "  (sigmoid): Sigmoid()\n",
      ")\n"
     ]
    }
   ],
   "source": [
    "# Khởi tạo mô hình\n",
    "input_size = 3 #Số đặc trưng (3)\n",
    "model = ANN(input_size)\n",
    "print(model)"
   ]
  },
  {
   "cell_type": "code",
   "execution_count": 9,
   "metadata": {},
   "outputs": [
    {
     "data": {
      "text/plain": [
       "tensor([[-1.1164,  1.0062,  0.0000],\n",
       "        [-0.9867, -1.0128, -0.8773],\n",
       "        [ 1.8660,  0.0000,  1.9718],\n",
       "        [-1.7647, -1.6857,  0.0000],\n",
       "        [ 1.2176,  0.6697,  0.0000],\n",
       "        [-0.0791,  1.3427,  0.9034],\n",
       "        [-0.8571,  0.6024,  0.9034],\n",
       "        [-0.3384,  0.1313,  0.5473],\n",
       "        [ 0.0000, -1.3492,  1.2595],\n",
       "        [ 0.3099,  1.4773,  0.1911],\n",
       "        [ 0.5693,  2.0157,  1.6157],\n",
       "        [ 0.0000, -0.1379, -1.5896],\n",
       "        [-1.2461, -1.2819,  1.2595],\n",
       "        [ 0.0000, -1.0801,  0.5473],\n",
       "        [ 0.4396,  0.0000, -0.8773],\n",
       "        [-1.3757, -1.3492, -1.5896],\n",
       "        [-1.1164, -0.8782, -0.1650],\n",
       "        [-1.6351, -1.5511,  0.0000],\n",
       "        [ 1.0879,  1.2754,  0.0000],\n",
       "        [ 0.0000, -0.0033, -0.1650],\n",
       "        [ 1.4769,  1.6119,  1.6157],\n",
       "        [ 0.0000, -0.6763,  0.5473],\n",
       "        [-1.3757, -1.4838, -1.2335],\n",
       "        [ 0.0000, -0.3398, -0.5212],\n",
       "        [ 0.1803,  1.1408,  0.5473],\n",
       "        [-0.7274,  0.0000,  0.1911],\n",
       "        [ 1.6066,  0.0000, -0.8773],\n",
       "        [ 0.0506,  0.4678,  1.2595],\n",
       "        [ 1.7363,  1.8811,  0.0000],\n",
       "        [ 0.0000, -1.1473,  0.1911],\n",
       "        [-0.3384,  0.3332, -1.2335],\n",
       "        [ 0.0000, -0.4744, -1.2335],\n",
       "        [-0.5977, -0.9455, -0.8773],\n",
       "        [-1.5054,  0.0000, -1.2335],\n",
       "        [-1.5054, -1.4165, -0.1650],\n",
       "        [ 1.8660,  0.0000, -1.9458],\n",
       "        [-0.0791, -0.2052, -1.5896],\n",
       "        [-0.8571, -1.2146, -0.5212],\n",
       "        [ 0.0000,  0.1986,  0.9034],\n",
       "        [-0.5977, -0.6090, -0.5212]])"
      ]
     },
     "execution_count": 9,
     "metadata": {},
     "output_type": "execute_result"
    }
   ],
   "source": [
    "X_train"
   ]
  },
  {
   "cell_type": "code",
   "execution_count": null,
   "metadata": {},
   "outputs": [
    {
     "name": "stdout",
     "output_type": "stream",
     "text": [
      "Epoch [10/50], Loss: 0.6747\n",
      "Epoch [20/50], Loss: 0.6036\n",
      "Epoch [30/50], Loss: 0.5472\n",
      "Epoch [40/50], Loss: 0.5280\n",
      "Epoch [50/50], Loss: 0.5107\n"
     ]
    }
   ],
   "source": [
    "\n",
    "# 3. Định nghĩa hàm mất mát và tối ưu hóa\n",
    "criterion = nn.BCELoss() # Binary Cross Entropy Loss\n",
    "optimizer = optim.Adam(model.parameters(), lr=0.01)\n",
    "\n",
    "# Huấn luyện mô hình\n",
    "num_epochs = 50\n",
    "for epoch in range(num_epochs):\n",
    "    model.train()\n",
    "    optimizer.zero_grad()# Xóa gradient cũ\n",
    "    y_pred = model(X_train)  # Dự đoán\n",
    "    loss = criterion(y_pred, y_train)  # Tính sai lầm\n",
    "    loss.backward()  # Tìm cách sửa\n",
    "    optimizer.step()   # Sửa trọng số\n",
    "    # In loss mỗi 10 epochs\n",
    "    if (epoch + 1) % 10 == 0:\n",
    "        print(f'Epoch [{epoch+1}/{num_epochs}], Loss: {loss.item():.4f}')"
   ]
  },
  {
   "cell_type": "code",
   "execution_count": 11,
   "metadata": {},
   "outputs": [
    {
     "name": "stdout",
     "output_type": "stream",
     "text": [
      "Accuracy trên tập kiểm tra: 0.7000\n",
      "Dự đoán mẫu (5 dòng đầu tiên):\n",
      "[[1.]\n",
      " [1.]\n",
      " [0.]\n",
      " [1.]\n",
      " [1.]]\n",
      "Nhãn thực tế:\n",
      "[[1.]\n",
      " [1.]\n",
      " [0.]\n",
      " [1.]\n",
      " [1.]]\n"
     ]
    }
   ],
   "source": [
    "# 4. Đánh giá mô hình\n",
    "model.eval()\n",
    "with torch.no_grad():\n",
    "    y_pred = model(X_test)\n",
    "    y_pred_class = (y_pred > 0.5).float() # Chuyển thành 0 hoặc 1\n",
    "    accuracy = (y_pred_class.eq(y_test).sum() / float(y_test.shape[0])).item()\n",
    "    print(f'Accuracy trên tập kiểm tra: {accuracy:.4f}')\n",
    "\n",
    "    # In một số dự đoán mẫu\n",
    "    print(\"Dự đoán mẫu (5 dòng đầu tiên):\")\n",
    "    print(y_pred_class[:5].numpy())\n",
    "    print(\"Nhãn thực tế:\")\n",
    "    print(y_test[:5].numpy())"
   ]
  },
  {
   "cell_type": "code",
   "execution_count": null,
   "metadata": {},
   "outputs": [],
   "source": []
  }
 ],
 "metadata": {
  "kernelspec": {
   "display_name": "Python 3",
   "language": "python",
   "name": "python3"
  },
  "language_info": {
   "codemirror_mode": {
    "name": "ipython",
    "version": 3
   },
   "file_extension": ".py",
   "mimetype": "text/x-python",
   "name": "python",
   "nbconvert_exporter": "python",
   "pygments_lexer": "ipython3",
   "version": "3.10.0"
  }
 },
 "nbformat": 4,
 "nbformat_minor": 2
}
