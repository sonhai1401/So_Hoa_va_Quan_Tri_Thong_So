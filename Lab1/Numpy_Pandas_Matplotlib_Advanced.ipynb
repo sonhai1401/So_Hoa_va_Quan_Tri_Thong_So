{
 "cells": [
  {
   "cell_type": "markdown",
   "id": "8ab2d14d-44ec-47a8-aee8-ae88dadf848f",
   "metadata": {},
   "source": [
    "# LAB 2: NUMPY, PANDAS VÀ MATPLOTLIB NÂNG CAO"
   ]
  },
  {
   "cell_type": "markdown",
   "id": "3efbe78c-8a64-4266-95e3-3f7d89189baa",
   "metadata": {},
   "source": [
    "## 1 NUMPY"
   ]
  },
  {
   "cell_type": "code",
   "execution_count": 1,
   "id": "a3e754a5-ea76-4de8-9de9-9ca1ecf7462a",
   "metadata": {},
   "outputs": [],
   "source": [
    "import numpy as np\n",
    "x = np.array([1,2,3,4,5,6,7,8])"
   ]
  },
  {
   "cell_type": "code",
   "execution_count": 7,
   "id": "d4dad61a-6dea-475d-a904-9f6597e9bb1a",
   "metadata": {},
   "outputs": [
    {
     "data": {
      "text/plain": [
       "3"
      ]
     },
     "execution_count": 7,
     "metadata": {},
     "output_type": "execute_result"
    }
   ],
   "source": [
    "# Lấy số 3\n",
    "x[2]"
   ]
  },
  {
   "cell_type": "code",
   "execution_count": 8,
   "id": "4399fdc5-961a-4775-b01b-7d39fbae6fd2",
   "metadata": {},
   "outputs": [
    {
     "data": {
      "text/plain": [
       "array([1, 2, 3])"
      ]
     },
     "execution_count": 8,
     "metadata": {},
     "output_type": "execute_result"
    }
   ],
   "source": [
    "# Lấy 1 2 3\n",
    "x[:3]"
   ]
  },
  {
   "cell_type": "code",
   "execution_count": 11,
   "id": "c6cf6ff2-283c-42c0-bbc8-9355191f2e49",
   "metadata": {},
   "outputs": [
    {
     "name": "stdout",
     "output_type": "stream",
     "text": [
      "[3 4 5 6 7 8]\n",
      "[3 4 5 6 7 8]\n"
     ]
    }
   ],
   "source": [
    "# lấy từ 3 - 8\n",
    "print(x[2:8])\n",
    "print(x[2:])"
   ]
  },
  {
   "cell_type": "code",
   "execution_count": 14,
   "id": "2752896d-314b-4cef-a9f8-477e15793724",
   "metadata": {},
   "outputs": [
    {
     "name": "stdout",
     "output_type": "stream",
     "text": [
      "[3 4 5 6 7]\n",
      "[3 4 5 6 7]\n"
     ]
    }
   ],
   "source": [
    "# Lấy từ 3 - 7\n",
    "print(x[2:7])\n",
    "print(x[2:-1])"
   ]
  },
  {
   "cell_type": "code",
   "execution_count": 15,
   "id": "694b404d-5353-48f9-a6ae-bcd36fe34704",
   "metadata": {},
   "outputs": [
    {
     "data": {
      "text/plain": [
       "array([7, 8])"
      ]
     },
     "execution_count": 15,
     "metadata": {},
     "output_type": "execute_result"
    }
   ],
   "source": [
    "# Lấy ra số 7 , 8\n",
    "x[-2:]"
   ]
  },
  {
   "cell_type": "code",
   "execution_count": 22,
   "id": "29f96937-938a-44f8-9df1-81e7ee3baf4a",
   "metadata": {},
   "outputs": [
    {
     "data": {
      "text/plain": [
       "array([3, 5])"
      ]
     },
     "execution_count": 22,
     "metadata": {},
     "output_type": "execute_result"
    }
   ],
   "source": [
    "# Lấy phần tử 2, 4\n",
    "x[[2,4]]"
   ]
  },
  {
   "cell_type": "code",
   "execution_count": 25,
   "id": "c44a8509-6d38-48cf-ba65-3d362f1cabfd",
   "metadata": {},
   "outputs": [
    {
     "data": {
      "text/plain": [
       "array([[1, 2],\n",
       "       [3, 4],\n",
       "       [5, 6]])"
      ]
     },
     "execution_count": 25,
     "metadata": {},
     "output_type": "execute_result"
    }
   ],
   "source": [
    "data = [[1,2], [3,4],[5,6]]\n",
    "mang = np.array(data)\n",
    "mang"
   ]
  },
  {
   "cell_type": "code",
   "execution_count": 34,
   "id": "7cf1b7da-3ad7-476a-828e-0731bf7b84ad",
   "metadata": {},
   "outputs": [
    {
     "data": {
      "text/plain": [
       "2"
      ]
     },
     "execution_count": 34,
     "metadata": {},
     "output_type": "execute_result"
    }
   ],
   "source": [
    "mang[0, 1]"
   ]
  },
  {
   "cell_type": "code",
   "execution_count": 37,
   "id": "ae4be3c5-7597-41f7-96b4-05342c712777",
   "metadata": {},
   "outputs": [
    {
     "data": {
      "text/plain": [
       "6"
      ]
     },
     "execution_count": 37,
     "metadata": {},
     "output_type": "execute_result"
    }
   ],
   "source": [
    "mang[-1,1]"
   ]
  },
  {
   "cell_type": "code",
   "execution_count": 45,
   "id": "ee12d1da-4c45-446d-a4cc-5656a21bb24f",
   "metadata": {},
   "outputs": [
    {
     "data": {
      "text/plain": [
       "array([[3, 4],\n",
       "       [5, 6]])"
      ]
     },
     "execution_count": 45,
     "metadata": {},
     "output_type": "execute_result"
    }
   ],
   "source": [
    "mang[1:]"
   ]
  },
  {
   "cell_type": "code",
   "execution_count": 64,
   "id": "2608465e-538d-4068-bc35-e02987abb9f1",
   "metadata": {},
   "outputs": [
    {
     "data": {
      "text/plain": [
       "array([[3, 4],\n",
       "       [5, 6]])"
      ]
     },
     "execution_count": 64,
     "metadata": {},
     "output_type": "execute_result"
    }
   ],
   "source": [
    "mang[[1,2],:]"
   ]
  },
  {
   "cell_type": "code",
   "execution_count": 70,
   "id": "a3a9d909-6f8b-438e-8140-43000e41c48e",
   "metadata": {},
   "outputs": [
    {
     "data": {
      "text/plain": [
       "array([[3, 4],\n",
       "       [5, 6]])"
      ]
     },
     "execution_count": 70,
     "metadata": {},
     "output_type": "execute_result"
    }
   ],
   "source": [
    "mang[1:3]"
   ]
  },
  {
   "cell_type": "code",
   "execution_count": 74,
   "id": "f0db22fe-c8c8-4e4d-bd52-ac00587a0ddd",
   "metadata": {},
   "outputs": [
    {
     "data": {
      "text/plain": [
       "array([[3, 4],\n",
       "       [5, 6]])"
      ]
     },
     "execution_count": 74,
     "metadata": {},
     "output_type": "execute_result"
    }
   ],
   "source": [
    "mang[-2:]"
   ]
  },
  {
   "cell_type": "code",
   "execution_count": 82,
   "id": "2b7a046a-9578-4839-9ff9-c9b35eaa0498",
   "metadata": {},
   "outputs": [
    {
     "data": {
      "text/plain": [
       "array([1, 3, 5])"
      ]
     },
     "execution_count": 82,
     "metadata": {},
     "output_type": "execute_result"
    }
   ],
   "source": [
    "mang[:,0]"
   ]
  },
  {
   "cell_type": "code",
   "execution_count": 83,
   "id": "89dcad60-9603-40b0-a198-387bdfc7ed9e",
   "metadata": {},
   "outputs": [
    {
     "data": {
      "text/plain": [
       "array([1, 5])"
      ]
     },
     "execution_count": 83,
     "metadata": {},
     "output_type": "execute_result"
    }
   ],
   "source": [
    "mang[[0,2],00]"
   ]
  },
  {
   "cell_type": "code",
   "execution_count": 85,
   "id": "00a48177-09c3-441b-8b1e-3e2381629f0b",
   "metadata": {},
   "outputs": [
    {
     "data": {
      "text/plain": [
       "array([1, 5])"
      ]
     },
     "execution_count": 85,
     "metadata": {},
     "output_type": "execute_result"
    }
   ],
   "source": [
    "mang[0::2,0]"
   ]
  },
  {
   "cell_type": "code",
   "execution_count": 88,
   "id": "bbfde205-8e8a-4468-a276-cce7ce174880",
   "metadata": {},
   "outputs": [
    {
     "data": {
      "text/plain": [
       "array([[ 1,  2,  3,  4],\n",
       "       [ 5,  6,  7,  8],\n",
       "       [ 9, 10, 11, 12],\n",
       "       [13, 14, 15, 16]])"
      ]
     },
     "execution_count": 88,
     "metadata": {},
     "output_type": "execute_result"
    }
   ],
   "source": [
    "x = [\n",
    "    [1,2,3,4],\n",
    "    [5,6,7,8],\n",
    "    [9,10,11,12],\n",
    "    [13,14,15,16]\n",
    "]\n",
    "x = np.array(x)\n",
    "x"
   ]
  },
  {
   "cell_type": "code",
   "execution_count": 93,
   "id": "2e20216e-5e4a-4370-9a40-a30a6d22af53",
   "metadata": {},
   "outputs": [
    {
     "data": {
      "text/plain": [
       "array([ 2,  6, 10, 14])"
      ]
     },
     "execution_count": 93,
     "metadata": {},
     "output_type": "execute_result"
    }
   ],
   "source": [
    "x[:,1]"
   ]
  },
  {
   "cell_type": "code",
   "execution_count": 108,
   "id": "02cdc5f0-dfe6-476d-a500-e8b801f9cec8",
   "metadata": {},
   "outputs": [
    {
     "data": {
      "text/plain": [
       "array([ 4,  7, 10])"
      ]
     },
     "execution_count": 108,
     "metadata": {},
     "output_type": "execute_result"
    }
   ],
   "source": [
    "x[[0,1,2],[3,2,1]]"
   ]
  },
  {
   "cell_type": "code",
   "execution_count": 111,
   "id": "d77f96ae-62d9-4794-8952-8bca2eedc39c",
   "metadata": {},
   "outputs": [
    {
     "data": {
      "text/plain": [
       "array([16, 15, 14, 13])"
      ]
     },
     "execution_count": 111,
     "metadata": {},
     "output_type": "execute_result"
    }
   ],
   "source": [
    "x[3,::-1]"
   ]
  },
  {
   "cell_type": "code",
   "execution_count": 113,
   "id": "00b712e7-2672-47bf-b302-2519fbc7df64",
   "metadata": {},
   "outputs": [
    {
     "data": {
      "text/plain": [
       "array([16, 15, 14, 13])"
      ]
     },
     "execution_count": 113,
     "metadata": {},
     "output_type": "execute_result"
    }
   ],
   "source": [
    "x[-1,-1::-1]"
   ]
  },
  {
   "cell_type": "code",
   "execution_count": 120,
   "id": "46d24ac8-d339-4b18-8968-a76b6b704b2b",
   "metadata": {},
   "outputs": [],
   "source": [
    "# Bài tập tết\n",
    "\n",
    "# Cho ma trận sau = x = [\n",
    "#     [99,99,99],\n",
    "#     [99,99,99]\n",
    "#      [99,99,99]\n",
    "\n",
    "# Giả sử 0 = O và 1 là X\n",
    "# Nhận đầu vào từ phía X và O luân phiên\n",
    "# Cho một cặp chỉ số\n",
    "# Nếu phía x nhập ((0,0)) thì ma trận trở thành\n",
    "#     [X,99,99],\n",
    "#     [99,99,99]\n",
    "#      [99,99,99]\n",
    "\n",
    "# Nếu phía O nhập ((0,0)) thì yêu cầu nhập lại và nếu không thì điền vào ma trận\n",
    "\n",
    "# Nếu ai đó có ba ô liên tiếp thi dừng trò chơi"
   ]
  },
  {
   "cell_type": "code",
   "execution_count": 23,
   "id": "cb27173e-4c7e-489a-a1ce-c0c0acf9f1c1",
   "metadata": {},
   "outputs": [
    {
     "name": "stdout",
     "output_type": "stream",
     "text": [
      "X đi trước, O đi sau\n",
      "Nhập tọa độ theo định dạng: hàng cột\n",
      "Ví dụ: '0 1' để đánh vào hàng 0, cột 1\n",
      "[99, 99, 99]\n",
      "[99, 99, 99]\n",
      "[99, 99, 99]\n",
      "\n",
      "Lượt của người chơi X\n"
     ]
    },
    {
     "name": "stdin",
     "output_type": "stream",
     "text": [
      "Nhập tọa độ (hàng cột, ví dụ: 0 1):  0 0\n"
     ]
    },
    {
     "name": "stdout",
     "output_type": "stream",
     "text": [
      "['X', 99, 99]\n",
      "[99, 99, 99]\n",
      "[99, 99, 99]\n",
      "\n",
      "Lượt của người chơi O\n"
     ]
    },
    {
     "name": "stdin",
     "output_type": "stream",
     "text": [
      "Nhập tọa độ (hàng cột, ví dụ: 0 1):  1 0\n"
     ]
    },
    {
     "name": "stdout",
     "output_type": "stream",
     "text": [
      "['X', 99, 99]\n",
      "['O', 99, 99]\n",
      "[99, 99, 99]\n",
      "\n",
      "Lượt của người chơi X\n"
     ]
    },
    {
     "name": "stdin",
     "output_type": "stream",
     "text": [
      "Nhập tọa độ (hàng cột, ví dụ: 0 1):  0 1\n"
     ]
    },
    {
     "name": "stdout",
     "output_type": "stream",
     "text": [
      "['X', 'X', 99]\n",
      "['O', 99, 99]\n",
      "[99, 99, 99]\n",
      "\n",
      "Lượt của người chơi O\n"
     ]
    },
    {
     "name": "stdin",
     "output_type": "stream",
     "text": [
      "Nhập tọa độ (hàng cột, ví dụ: 0 1):  2 1\n"
     ]
    },
    {
     "name": "stdout",
     "output_type": "stream",
     "text": [
      "['X', 'X', 99]\n",
      "['O', 99, 99]\n",
      "[99, 'O', 99]\n",
      "\n",
      "Lượt của người chơi X\n"
     ]
    },
    {
     "name": "stdin",
     "output_type": "stream",
     "text": [
      "Nhập tọa độ (hàng cột, ví dụ: 0 1):  0 2\n"
     ]
    },
    {
     "name": "stdout",
     "output_type": "stream",
     "text": [
      "['X', 'X', 'X']\n",
      "['O', 99, 99]\n",
      "[99, 'O', 99]\n",
      "\n",
      "Người chơi X thắng!\n"
     ]
    }
   ],
   "source": [
    "# In ra ma trận\n",
    "def print_board(board):\n",
    "    for row in board:\n",
    "        print(row)\n",
    "    print()\n",
    "\n",
    "#kiểm tra nước đi hợp lệ\n",
    "def is_valid_move(board, row, col):\n",
    "    if 0 <= row <= 2 and 0 <= col <= 2:\n",
    "        return board[row][col] == 99\n",
    "    return False\n",
    "    \n",
    "#kiểm tra xem có người chiến thắng hay không\n",
    "def check_winner(board):\n",
    "    # Kiểm tra hàng ngang\n",
    "    for row in board:\n",
    "        if row[0] == row[1] == row[2] != 99:\n",
    "            return True\n",
    "    \n",
    "    # Kiểm tra hàng dọc\n",
    "    for col in range(3):\n",
    "        if board[0][col] == board[1][col] == board[2][col] != 99:\n",
    "            return True\n",
    "    \n",
    "    # Kiểm tra đường chéo\n",
    "    if board[0][0] == board[1][1] == board[2][2] != 99:\n",
    "        return True\n",
    "    if board[0][2] == board[1][1] == board[2][0] != 99:\n",
    "        return True\n",
    "    \n",
    "    return False\n",
    "\n",
    "def play_game():\n",
    "    # Khởi tạo bảng\n",
    "    board = [[99 for _ in range(3)] for _ in range(3)]\n",
    "    current_player = 'X'  # X đi trước\n",
    "    moves = 0\n",
    "    \n",
    "    while True:\n",
    "        print_board(board)\n",
    "        print(f\"Lượt của người chơi {current_player}\")\n",
    "        \n",
    "        try:\n",
    "            move = input(\"Nhập tọa độ (hàng cột, ví dụ: 0 1): \").split()\n",
    "            if len(move) != 2:\n",
    "                print(\"Vui lòng nhập đúng định dạng 'hàng cột' (ví dụ: 0 1)\")\n",
    "                continue\n",
    "                \n",
    "            row, col = map(int, move)\n",
    "            \n",
    "            if not is_valid_move(board, row, col):\n",
    "                print(\"Nước đi không hợp lệ. Vui lòng thử lại!\")\n",
    "                continue\n",
    "            \n",
    "            # Cập nhật bảng\n",
    "            board[row][col] = 'X' if current_player == 'X' else 'O'\n",
    "            moves += 1\n",
    "            \n",
    "            # Kiểm tra người thắng\n",
    "            if check_winner(board):\n",
    "                print_board(board)\n",
    "                print(f\"Người chơi {current_player} thắng!\")\n",
    "                break\n",
    "            \n",
    "            # Kiểm tra hòa\n",
    "            if moves == 9:\n",
    "                print_board(board)\n",
    "                print(\"Trò chơi hòa!\")\n",
    "                break\n",
    "            \n",
    "            # Đổi lượt chơi\n",
    "            current_player = 'O' if current_player == 'X' else 'X'\n",
    "            \n",
    "        except ValueError:\n",
    "            print(\"Vui lòng nhập số hợp lệ!\")\n",
    "\n",
    "print(\"X đi trước, O đi sau\")\n",
    "print(\"Nhập tọa độ theo định dạng: hàng cột\")\n",
    "print(\"Ví dụ: '0 1' để đánh vào hàng 0, cột 1\")\n",
    "play_game()"
   ]
  },
  {
   "cell_type": "code",
   "execution_count": 129,
   "id": "11b67237-d855-4f9c-9b52-e0cc223a5638",
   "metadata": {},
   "outputs": [
    {
     "data": {
      "text/plain": [
       "array([[1, 2, 3],\n",
       "       [4, 5, 6],\n",
       "       [7, 8, 9]])"
      ]
     },
     "execution_count": 129,
     "metadata": {},
     "output_type": "execute_result"
    }
   ],
   "source": [
    "# Bài tập trên lớp từ 14h20 - 14h35\n",
    "# Cho ma trận sau = x = [\n",
    "#     [1, 2, 3],\n",
    "#     [4, 5, 6]\n",
    "#      [7, 8 ,9]\n",
    "mang_ND = [\n",
    "    [1, 2, 3],\n",
    "     [4, 5, 6],\n",
    "   [7, 8 ,9],\n",
    "]\n",
    "mangND = np.array(mang_ND)\n",
    "mangND"
   ]
  },
  {
   "cell_type": "code",
   "execution_count": 161,
   "id": "206e4322-307a-461d-aa07-bc5525ed1e50",
   "metadata": {},
   "outputs": [
    {
     "data": {
      "text/plain": [
       "array([4, 5, 6])"
      ]
     },
     "execution_count": 161,
     "metadata": {},
     "output_type": "execute_result"
    }
   ],
   "source": [
    "# Lấy 4, 5, 6\n",
    "mangND[1]"
   ]
  },
  {
   "cell_type": "code",
   "execution_count": 155,
   "id": "8d078b34-8a00-4945-b3b6-4d2b8cd4abb1",
   "metadata": {},
   "outputs": [
    {
     "data": {
      "text/plain": [
       "array([2, 5])"
      ]
     },
     "execution_count": 155,
     "metadata": {},
     "output_type": "execute_result"
    }
   ],
   "source": [
    "# lấy 2, 5\n",
    "mangND[:2,-2]"
   ]
  },
  {
   "cell_type": "code",
   "execution_count": 192,
   "id": "dc7c719e-19a1-4ae4-a229-3cd120508795",
   "metadata": {},
   "outputs": [
    {
     "data": {
      "text/plain": [
       "array([3, 4])"
      ]
     },
     "execution_count": 192,
     "metadata": {},
     "output_type": "execute_result"
    }
   ],
   "source": [
    "# lấy 3, 4\n",
    "mangND[[0,1],[2,0]]"
   ]
  },
  {
   "cell_type": "code",
   "execution_count": 164,
   "id": "27c2b7a4-fa40-4fbd-8033-cdf2e7f5760f",
   "metadata": {},
   "outputs": [
    {
     "data": {
      "text/plain": [
       "array([9, 6, 3])"
      ]
     },
     "execution_count": 164,
     "metadata": {},
     "output_type": "execute_result"
    }
   ],
   "source": [
    "# Lấy 9, 6, 3\n",
    "mangND[:3,-1][::-1]"
   ]
  },
  {
   "cell_type": "code",
   "execution_count": 197,
   "id": "7f7e7526-0b89-48dd-a088-b6cd6ae7d5ac",
   "metadata": {},
   "outputs": [
    {
     "data": {
      "text/plain": [
       "[2, 4, 6, 8, 10]"
      ]
     },
     "execution_count": 197,
     "metadata": {},
     "output_type": "execute_result"
    }
   ],
   "source": [
    "X = [1,2,3,4,5,6,7,8,9,10]\n",
    "X = np.array(X)\n",
    "mangchan = [num for num in X if num % 2 == 0 ]\n",
    "mangchan"
   ]
  },
  {
   "cell_type": "code",
   "execution_count": 205,
   "id": "ff171b69-1687-494b-a397-5e7c256066fd",
   "metadata": {},
   "outputs": [
    {
     "data": {
      "text/plain": [
       "array([ 2,  4,  6,  8, 10])"
      ]
     },
     "execution_count": 205,
     "metadata": {},
     "output_type": "execute_result"
    }
   ],
   "source": [
    "X[X % 2 == 0]"
   ]
  },
  {
   "cell_type": "code",
   "execution_count": 206,
   "id": "20834fec-7278-4c2b-9f39-12c2981581ca",
   "metadata": {},
   "outputs": [
    {
     "data": {
      "text/plain": [
       "array([[1., 1., 1.],\n",
       "       [1., 1., 1.],\n",
       "       [1., 1., 1.]])"
      ]
     },
     "execution_count": 206,
     "metadata": {},
     "output_type": "execute_result"
    }
   ],
   "source": [
    "np.ones((3,3))"
   ]
  },
  {
   "cell_type": "code",
   "execution_count": 208,
   "id": "6c6f9d62-f63b-41ee-8f00-195bbe6ba26b",
   "metadata": {},
   "outputs": [
    {
     "data": {
      "text/plain": [
       "array([0, 1, 2])"
      ]
     },
     "execution_count": 208,
     "metadata": {},
     "output_type": "execute_result"
    }
   ],
   "source": [
    "np.arange(3)"
   ]
  },
  {
   "cell_type": "code",
   "execution_count": 209,
   "id": "50836f00-786d-4b0a-a283-e61543af6426",
   "metadata": {},
   "outputs": [
    {
     "data": {
      "text/plain": [
       "array([[1., 2., 3.],\n",
       "       [1., 2., 3.],\n",
       "       [1., 2., 3.]])"
      ]
     },
     "execution_count": 209,
     "metadata": {},
     "output_type": "execute_result"
    }
   ],
   "source": [
    "np.ones((3,3))+np.arange(3)"
   ]
  },
  {
   "cell_type": "code",
   "execution_count": 214,
   "id": "0d1dfa9c-0352-4bef-bb7b-7eba5be8004a",
   "metadata": {},
   "outputs": [],
   "source": [
    "x = np.arange(3)"
   ]
  },
  {
   "cell_type": "code",
   "execution_count": 215,
   "id": "80e9f313-a787-4c00-961f-85c895d8cc13",
   "metadata": {},
   "outputs": [
    {
     "data": {
      "text/plain": [
       "(3,)"
      ]
     },
     "execution_count": 215,
     "metadata": {},
     "output_type": "execute_result"
    }
   ],
   "source": [
    "x.shape"
   ]
  },
  {
   "cell_type": "code",
   "execution_count": 218,
   "id": "b22b2cc8-e254-478b-bb17-5e5401d6ff4b",
   "metadata": {},
   "outputs": [
    {
     "data": {
      "text/plain": [
       "array([[0],\n",
       "       [1],\n",
       "       [2]])"
      ]
     },
     "execution_count": 218,
     "metadata": {},
     "output_type": "execute_result"
    }
   ],
   "source": [
    "x = x.reshape((3,1))\n",
    "x"
   ]
  },
  {
   "cell_type": "code",
   "execution_count": 219,
   "id": "d7403d30-d94e-4c99-8047-cbacf591b301",
   "metadata": {},
   "outputs": [
    {
     "data": {
      "text/plain": [
       "(3, 1)"
      ]
     },
     "execution_count": 219,
     "metadata": {},
     "output_type": "execute_result"
    }
   ],
   "source": [
    "x.shape"
   ]
  },
  {
   "cell_type": "code",
   "execution_count": 220,
   "id": "0e4d93c4-bc3d-40cd-a4e5-c0aa2e363ea3",
   "metadata": {},
   "outputs": [
    {
     "data": {
      "text/plain": [
       "array([0, 1, 2])"
      ]
     },
     "execution_count": 220,
     "metadata": {},
     "output_type": "execute_result"
    }
   ],
   "source": [
    "y = np.arange(3)\n",
    "\n",
    "y"
   ]
  },
  {
   "cell_type": "code",
   "execution_count": 221,
   "id": "8564f7ae-af70-4434-a2da-227dfd3f7ab4",
   "metadata": {},
   "outputs": [
    {
     "data": {
      "text/plain": [
       "array([[0, 1, 2],\n",
       "       [1, 2, 3],\n",
       "       [2, 3, 4]])"
      ]
     },
     "execution_count": 221,
     "metadata": {},
     "output_type": "execute_result"
    }
   ],
   "source": [
    "x+y"
   ]
  },
  {
   "cell_type": "code",
   "execution_count": 252,
   "id": "0ccdafed-3f8f-4d69-8f69-c5c8d4059cb7",
   "metadata": {},
   "outputs": [],
   "source": [
    "# Bài tập kết numpy\n",
    "# Tạo một mảng numpy có kích thước 150x5, hãy tưởng tượng mảng này chứa 150 mẫu về chiều cao, cân nặng, tuổi, lương, GPA của sinh viên VLU.\n",
    "\n",
    "# Chia mảng bốn côt đầu tiên thành một biến có tên là X và cột cuối cùng thành y\n",
    "\n",
    "# Chia X thành X_train và X_test chứa 70% dữ liệu và chia y thành y_train và y_test, trong đó y_train chứa 70% dữ liệu\n",
    "\n",
    "# Tạo 10 tập dữ liệu không chồng chéo của X_train"
   ]
  },
  {
   "cell_type": "code",
   "execution_count": 11,
   "id": "2cdf8032-4d9c-4cef-a83f-c5587c5f3afa",
   "metadata": {},
   "outputs": [
    {
     "data": {
      "text/plain": [
       "(150, 5)"
      ]
     },
     "execution_count": 11,
     "metadata": {},
     "output_type": "execute_result"
    }
   ],
   "source": [
    "data = np.random.uniform(0,10,(150,5))\n",
    "data.shape"
   ]
  },
  {
   "cell_type": "code",
   "execution_count": 12,
   "id": "314f24d9-d9c9-4637-9f8e-7d0526fb0ecb",
   "metadata": {},
   "outputs": [
    {
     "data": {
      "text/plain": [
       "(150, 4)"
      ]
     },
     "execution_count": 12,
     "metadata": {},
     "output_type": "execute_result"
    }
   ],
   "source": [
    "x = data[:,:-1]\n",
    "x.shape"
   ]
  },
  {
   "cell_type": "code",
   "execution_count": 13,
   "id": "fdb08410-e0b9-412f-a08c-87cbae127392",
   "metadata": {},
   "outputs": [
    {
     "data": {
      "text/plain": [
       "(150,)"
      ]
     },
     "execution_count": 13,
     "metadata": {},
     "output_type": "execute_result"
    }
   ],
   "source": [
    "y = data[:,-1]\n",
    "y.shape"
   ]
  },
  {
   "cell_type": "code",
   "execution_count": 14,
   "id": "9fb044d9-6995-4c94-8527-8d7f349cdda9",
   "metadata": {},
   "outputs": [
    {
     "data": {
      "text/plain": [
       "150"
      ]
     },
     "execution_count": 14,
     "metadata": {},
     "output_type": "execute_result"
    }
   ],
   "source": [
    "dataset_size = x.shape[0]\n",
    "dataset_size"
   ]
  },
  {
   "cell_type": "code",
   "execution_count": 15,
   "id": "a4a145d9-e528-4148-aaa1-69941bcfc5fd",
   "metadata": {},
   "outputs": [
    {
     "data": {
      "text/plain": [
       "105"
      ]
     },
     "execution_count": 15,
     "metadata": {},
     "output_type": "execute_result"
    }
   ],
   "source": [
    "train_size = int(0.7*dataset_size)\n",
    "train_size"
   ]
  },
  {
   "cell_type": "code",
   "execution_count": 16,
   "id": "027da899-7b14-47a2-b6bd-5258936b82da",
   "metadata": {},
   "outputs": [
    {
     "data": {
      "text/plain": [
       "((105, 4), (45, 4))"
      ]
     },
     "execution_count": 16,
     "metadata": {},
     "output_type": "execute_result"
    }
   ],
   "source": [
    "x_train = x[:train_size]\n",
    "x_test = x[train_size:]\n",
    "\n",
    "x_train.shape, x_test.shape"
   ]
  },
  {
   "cell_type": "code",
   "execution_count": 17,
   "id": "ee26620d-b21c-4022-a5e8-45b220090fda",
   "metadata": {},
   "outputs": [
    {
     "data": {
      "text/plain": [
       "((105,), (45,))"
      ]
     },
     "execution_count": 17,
     "metadata": {},
     "output_type": "execute_result"
    }
   ],
   "source": [
    "y_train = y[:train_size]\n",
    "y_test = y[train_size:]\n",
    "\n",
    "y_train.shape, y_test.shape"
   ]
  },
  {
   "cell_type": "code",
   "execution_count": 18,
   "id": "f74e64be-5319-44be-84e2-f28c8f972a3d",
   "metadata": {},
   "outputs": [
    {
     "data": {
      "text/plain": [
       "10"
      ]
     },
     "execution_count": 18,
     "metadata": {},
     "output_type": "execute_result"
    }
   ],
   "source": [
    "split = x_train.shape[0]//10\n",
    "split"
   ]
  },
  {
   "cell_type": "code",
   "execution_count": 19,
   "id": "6d69dbad-abdb-4ca8-a7ac-07fa76ea5a6d",
   "metadata": {},
   "outputs": [
    {
     "data": {
      "text/plain": [
       "10"
      ]
     },
     "execution_count": 19,
     "metadata": {},
     "output_type": "execute_result"
    }
   ],
   "source": [
    "splity = y_train.shape[0]//10\n",
    "splity"
   ]
  },
  {
   "cell_type": "code",
   "execution_count": 251,
   "id": "3074d376-69ac-4209-a729-98bbd290287c",
   "metadata": {
    "scrolled": true
   },
   "outputs": [
    {
     "name": "stdout",
     "output_type": "stream",
     "text": [
      "(10, 4)\n",
      "(10, 4)\n",
      "(10, 4)\n",
      "(10, 4)\n",
      "(10, 4)\n",
      "(10, 4)\n",
      "(10, 4)\n",
      "(10, 4)\n",
      "(10, 4)\n",
      "(10, 4)\n",
      "(5, 4)\n"
     ]
    }
   ],
   "source": [
    "for counter in range(0, x_train.shape[0], split):\n",
    "    print(x_train[counter:counter+split].shape)"
   ]
  },
  {
   "cell_type": "code",
   "execution_count": 22,
   "id": "ace4b66f-a0a1-4f3b-9506-9a174c2dfb2f",
   "metadata": {},
   "outputs": [
    {
     "name": "stdout",
     "output_type": "stream",
     "text": [
      "(10,)\n",
      "(10,)\n",
      "(10,)\n",
      "(10,)\n",
      "(10,)\n",
      "(10,)\n",
      "(10,)\n",
      "(10,)\n",
      "(10,)\n",
      "(10,)\n",
      "(5,)\n"
     ]
    }
   ],
   "source": [
    "for counter in range(0, y_train.shape[0], splity):\n",
    "    print(y_train[counter:counter+splity].shape)"
   ]
  },
  {
   "cell_type": "markdown",
   "id": "4d6e54b3-7ce2-47f1-a697-564004eb2de8",
   "metadata": {},
   "source": [
    "# BTVN 2:\n",
    "# Nhận xét input, output\n",
    "Input: \\\n",
    "Dữ liệu chứa 1 mảng có các số thực được tạo ngẫu nhiên từ 0 đến 10 với kích thước 150,5 tượng trưng về chiều cao, cân nặng, tuổi, lương, gpa của sinh viên Văn Lang \\\n",
    "Dữ liệu sau đó được chia thành hai tập hợp: \\\n",
    "x: chứa tất cả các cột ngoại trừ cột cuối cùng có kích thước: 150, 4. Đây có thể là các biến độc lập hoặc các đặc trưng \\\n",
    "y: chứa cột cuối cùng kích thước có 150. Đây có thể là biến phụ thuộc hoặc biến mục tiêu \\\n",
    "Sau đó dữ liệu được chia thành tập huấn luyện với 70% và tập kiểm tra với 30%:\n",
    "x_train, y_train: tập huấn luyện cho các biến độc lập và biến mục tiêu \\\n",
    "x_test, y_test: tập kiểm tra cho các biến độc lập và biến mục tiêu \\\n",
    "=> với tập train lớn hơn tập test sẽ giúp mô hình học tốt hơn \n",
    "Output: \\\n",
    "Shape của dữ liệu: in ra hình dạng của các mảng khác nhau để xác nhận kích thước của chúng như x_train.shape là 105, 4 và y_train.shape là 105, \\\n",
    "In dữ liệu theo Lô: chia tập huấn luyện thành các lô nhỏ hơn với kích thước lô là 10 và in hình dạng của mỗi lô. Điều này được thực hiện cho cả x_train và y_train. Có thể thấy rằng hầu hết các lô đều có hình dạng 10, 4 cho x_train và 10, cho y_train, nhưng lô cuối cùng có thể nhỏ hơn nếu kích thước tập huấn luyện không chia hết cho kích thước lô. Trong trường hợp này, lô cuối cùng có hình dạng (5, 4) và (5,) \n",
    "\n",
    "\n"
   ]
  },
  {
   "cell_type": "markdown",
   "id": "c7ac8cba-311a-4ee5-a33c-b87e348dde04",
   "metadata": {},
   "source": [
    "## 2. PANDAS"
   ]
  },
  {
   "cell_type": "code",
   "execution_count": 18,
   "id": "ff35e00c-3160-49aa-84cd-7c0bc464ce48",
   "metadata": {},
   "outputs": [
    {
     "data": {
      "text/html": [
       "<div>\n",
       "<style scoped>\n",
       "    .dataframe tbody tr th:only-of-type {\n",
       "        vertical-align: middle;\n",
       "    }\n",
       "\n",
       "    .dataframe tbody tr th {\n",
       "        vertical-align: top;\n",
       "    }\n",
       "\n",
       "    .dataframe thead th {\n",
       "        text-align: right;\n",
       "    }\n",
       "</style>\n",
       "<table border=\"1\" class=\"dataframe\">\n",
       "  <thead>\n",
       "    <tr style=\"text-align: right;\">\n",
       "      <th></th>\n",
       "      <th>ID</th>\n",
       "      <th>Name</th>\n",
       "      <th>Age</th>\n",
       "      <th>Salary</th>\n",
       "    </tr>\n",
       "  </thead>\n",
       "  <tbody>\n",
       "    <tr>\n",
       "      <th>0</th>\n",
       "      <td>101</td>\n",
       "      <td>Quynh Nhu</td>\n",
       "      <td>26.0</td>\n",
       "      <td>50000.0</td>\n",
       "    </tr>\n",
       "    <tr>\n",
       "      <th>1</th>\n",
       "      <td>102</td>\n",
       "      <td>Hoang Hai</td>\n",
       "      <td>18.0</td>\n",
       "      <td>35000.0</td>\n",
       "    </tr>\n",
       "    <tr>\n",
       "      <th>2</th>\n",
       "      <td>103</td>\n",
       "      <td>None</td>\n",
       "      <td>20.0</td>\n",
       "      <td>65000.0</td>\n",
       "    </tr>\n",
       "    <tr>\n",
       "      <th>3</th>\n",
       "      <td>104</td>\n",
       "      <td>Phuong Tuan</td>\n",
       "      <td>NaN</td>\n",
       "      <td>100000.0</td>\n",
       "    </tr>\n",
       "    <tr>\n",
       "      <th>4</th>\n",
       "      <td>105</td>\n",
       "      <td>Thien An</td>\n",
       "      <td>19.0</td>\n",
       "      <td>NaN</td>\n",
       "    </tr>\n",
       "  </tbody>\n",
       "</table>\n",
       "</div>"
      ],
      "text/plain": [
       "    ID         Name   Age    Salary\n",
       "0  101    Quynh Nhu  26.0   50000.0\n",
       "1  102    Hoang Hai  18.0   35000.0\n",
       "2  103         None  20.0   65000.0\n",
       "3  104  Phuong Tuan   NaN  100000.0\n",
       "4  105     Thien An  19.0       NaN"
      ]
     },
     "execution_count": 18,
     "metadata": {},
     "output_type": "execute_result"
    }
   ],
   "source": [
    "import pandas as pd\n",
    "\n",
    "data = {\n",
    "    \"ID\": [101,102,103,104,105],\n",
    "    \"Name\" : [\"Quynh Nhu\",\"Hoang Hai\", None,\"Phuong Tuan\",\"Thien An\"],\n",
    "    \"Age\": [26,18,20,None,19],\n",
    "    \"Salary\": [50000,35000,65000,100000, None]\n",
    "   \n",
    "}\n",
    "df = pd.DataFrame(data)\n",
    "df"
   ]
  },
  {
   "cell_type": "code",
   "execution_count": 19,
   "id": "588dc2ca-640d-4217-b1da-ba7f5ba751a4",
   "metadata": {},
   "outputs": [
    {
     "name": "stdout",
     "output_type": "stream",
     "text": [
      "    ID         Name    Age    Salary\n",
      "0  101    Quynh Nhu  26.00   50000.0\n",
      "1  102    Hoang Hai  18.00   35000.0\n",
      "2  103         None  20.00   65000.0\n",
      "3  104  Phuong Tuan  20.75  100000.0\n",
      "4  105     Thien An  19.00       NaN\n",
      "    ID         Name    Age    Salary\n",
      "0  101    Quynh Nhu  26.00   50000.0\n",
      "1  102    Hoang Hai  18.00   35000.0\n",
      "3  104  Phuong Tuan  20.75  100000.0\n",
      "    ID         Name    Age    Salary\n",
      "0  101    Quynh Nhu  26.00   50000.0\n",
      "1  102    Hoang Hai  18.00   35000.0\n",
      "3  104  Phuong Tuan  20.75  100000.0\n",
      "    ID         Name    Age    Salary\n",
      "0  101    Quynh Nhu  26.00   50000.0\n",
      "1  102    Hoang Hai  18.00   35000.0\n",
      "3  104  Phuong Tuan  20.75  100000.0\n"
     ]
    }
   ],
   "source": [
    "#Điền giá trị thiếu trong cột Age = Mean\n",
    "df.Age.fillna(df.Age.mean(), inplace=True)\n",
    "print(df)\n",
    "# Loại bỏ các dòng chứa dữ liệu thiếu\n",
    "df.dropna(inplace=True)\n",
    "print(df)\n",
    "#Điền giá trị thiếu trong Name = Unknown\n",
    "df.Name.fillna(\"Unknown\", inplace=True)\n",
    "print(df)\n",
    "#Điền giá trị thiếu trong salary = phương pháp interpolation\n",
    "df.Salary.interpolate(method=\"linear\", inplace=True)\n",
    "print(df) "
   ]
  },
  {
   "cell_type": "code",
   "execution_count": 33,
   "id": "4096033a-6618-4bac-9722-9f76c17d59b2",
   "metadata": {},
   "outputs": [],
   "source": [
    "# Cho dữ liệu\n",
    "df1 = pd.DataFrame({\n",
    "    \"Id\": [1,2,3],\n",
    "    \"Score_A\": [70,90,85]\n",
    "})\n",
    "df2 = pd.DataFrame({\n",
    "    \"Id\": [3,4,5],\n",
    "    \"Score_B\": [62,91,75]\n",
    "})\n"
   ]
  },
  {
   "cell_type": "code",
   "execution_count": 39,
   "id": "8dcb0fa5-8365-4f76-a7ec-e0c385b7ee94",
   "metadata": {},
   "outputs": [
    {
     "name": "stdout",
     "output_type": "stream",
     "text": [
      "   Id  Score_A  Score_B\n",
      "0   3       85       62\n",
      "   Id  Score_A  Score_B\n",
      "0   1       70      NaN\n",
      "1   2       90      NaN\n",
      "2   3       85     62.0\n",
      "   Id  Score_A  Score_B\n",
      "0   1     70.0      NaN\n",
      "1   2     90.0      NaN\n",
      "2   3     85.0     62.0\n",
      "3   4      NaN     91.0\n",
      "4   5      NaN     75.0\n",
      "   Id  Score_A  Score_B\n",
      "0   1     70.0      NaN\n",
      "1   2     90.0      NaN\n",
      "2   3     85.0      NaN\n",
      "3   3      NaN     62.0\n",
      "4   4      NaN     91.0\n",
      "5   5      NaN     75.0\n"
     ]
    },
    {
     "data": {
      "text/html": [
       "<div>\n",
       "<style scoped>\n",
       "    .dataframe tbody tr th:only-of-type {\n",
       "        vertical-align: middle;\n",
       "    }\n",
       "\n",
       "    .dataframe tbody tr th {\n",
       "        vertical-align: top;\n",
       "    }\n",
       "\n",
       "    .dataframe thead th {\n",
       "        text-align: right;\n",
       "    }\n",
       "</style>\n",
       "<table border=\"1\" class=\"dataframe\">\n",
       "  <thead>\n",
       "    <tr style=\"text-align: right;\">\n",
       "      <th></th>\n",
       "      <th>Id</th>\n",
       "      <th>Score_A</th>\n",
       "      <th>Score_B</th>\n",
       "    </tr>\n",
       "  </thead>\n",
       "  <tbody>\n",
       "    <tr>\n",
       "      <th>0</th>\n",
       "      <td>1</td>\n",
       "      <td>70.0</td>\n",
       "      <td>NaN</td>\n",
       "    </tr>\n",
       "    <tr>\n",
       "      <th>1</th>\n",
       "      <td>2</td>\n",
       "      <td>90.0</td>\n",
       "      <td>NaN</td>\n",
       "    </tr>\n",
       "    <tr>\n",
       "      <th>2</th>\n",
       "      <td>3</td>\n",
       "      <td>85.0</td>\n",
       "      <td>62.0</td>\n",
       "    </tr>\n",
       "    <tr>\n",
       "      <th>3</th>\n",
       "      <td>4</td>\n",
       "      <td>NaN</td>\n",
       "      <td>91.0</td>\n",
       "    </tr>\n",
       "    <tr>\n",
       "      <th>4</th>\n",
       "      <td>5</td>\n",
       "      <td>NaN</td>\n",
       "      <td>75.0</td>\n",
       "    </tr>\n",
       "  </tbody>\n",
       "</table>\n",
       "</div>"
      ],
      "text/plain": [
       "   Id  Score_A  Score_B\n",
       "0   1     70.0      NaN\n",
       "1   2     90.0      NaN\n",
       "2   3     85.0     62.0\n",
       "3   4      NaN     91.0\n",
       "4   5      NaN     75.0"
      ]
     },
     "execution_count": 39,
     "metadata": {},
     "output_type": "execute_result"
    }
   ],
   "source": [
    "# Thực hiện Merge trên cột id (inner join, left join, outer join)\n",
    "inner_join = pd.merge(df1,df2, on='Id', how='inner')\n",
    "left_join = pd.merge(df1,df2, on='Id', how='left')\n",
    "outer_join = pd.merge(df1,df2, on='Id', how='outer')\n",
    "print(inner_join)\n",
    "print(left_join)\n",
    "print(outer_join)\n",
    "# Nối DataFrame theo chiều dọc\n",
    "dfaxis = pd.concat([df1,df2], axis=0, ignore_index=True)\n",
    "print(dfaxis)\n",
    "# Gộp df1 và df2 để điền giá trị thiếu\n",
    "df1.set_index(\"Id\").combine_first(df2.set_index(\"Id\")).reset_index()"
   ]
  },
  {
   "cell_type": "code",
   "execution_count": 68,
   "id": "5b3c17c1-114c-4d93-bec4-c280c4672493",
   "metadata": {},
   "outputs": [
    {
     "data": {
      "text/html": [
       "<div>\n",
       "<style scoped>\n",
       "    .dataframe tbody tr th:only-of-type {\n",
       "        vertical-align: middle;\n",
       "    }\n",
       "\n",
       "    .dataframe tbody tr th {\n",
       "        vertical-align: top;\n",
       "    }\n",
       "\n",
       "    .dataframe thead th {\n",
       "        text-align: right;\n",
       "    }\n",
       "</style>\n",
       "<table border=\"1\" class=\"dataframe\">\n",
       "  <thead>\n",
       "    <tr style=\"text-align: right;\">\n",
       "      <th></th>\n",
       "      <th>ID</th>\n",
       "      <th>Value</th>\n",
       "    </tr>\n",
       "  </thead>\n",
       "  <tbody>\n",
       "    <tr>\n",
       "      <th>0</th>\n",
       "      <td>1</td>\n",
       "      <td>80</td>\n",
       "    </tr>\n",
       "    <tr>\n",
       "      <th>1</th>\n",
       "      <td>2</td>\n",
       "      <td>24</td>\n",
       "    </tr>\n",
       "    <tr>\n",
       "      <th>2</th>\n",
       "      <td>3</td>\n",
       "      <td>23</td>\n",
       "    </tr>\n",
       "    <tr>\n",
       "      <th>3</th>\n",
       "      <td>4</td>\n",
       "      <td>69</td>\n",
       "    </tr>\n",
       "    <tr>\n",
       "      <th>4</th>\n",
       "      <td>5</td>\n",
       "      <td>41</td>\n",
       "    </tr>\n",
       "    <tr>\n",
       "      <th>...</th>\n",
       "      <td>...</td>\n",
       "      <td>...</td>\n",
       "    </tr>\n",
       "    <tr>\n",
       "      <th>999995</th>\n",
       "      <td>999996</td>\n",
       "      <td>29</td>\n",
       "    </tr>\n",
       "    <tr>\n",
       "      <th>999996</th>\n",
       "      <td>999997</td>\n",
       "      <td>5</td>\n",
       "    </tr>\n",
       "    <tr>\n",
       "      <th>999997</th>\n",
       "      <td>999998</td>\n",
       "      <td>69</td>\n",
       "    </tr>\n",
       "    <tr>\n",
       "      <th>999998</th>\n",
       "      <td>999999</td>\n",
       "      <td>80</td>\n",
       "    </tr>\n",
       "    <tr>\n",
       "      <th>999999</th>\n",
       "      <td>1000000</td>\n",
       "      <td>94</td>\n",
       "    </tr>\n",
       "  </tbody>\n",
       "</table>\n",
       "<p>1000000 rows × 2 columns</p>\n",
       "</div>"
      ],
      "text/plain": [
       "             ID  Value\n",
       "0             1     80\n",
       "1             2     24\n",
       "2             3     23\n",
       "3             4     69\n",
       "4             5     41\n",
       "...         ...    ...\n",
       "999995   999996     29\n",
       "999996   999997      5\n",
       "999997   999998     69\n",
       "999998   999999     80\n",
       "999999  1000000     94\n",
       "\n",
       "[1000000 rows x 2 columns]"
      ]
     },
     "execution_count": 68,
     "metadata": {},
     "output_type": "execute_result"
    }
   ],
   "source": [
    " # Cho dữ liệu sau\n",
    "data = pd.DataFrame({\n",
    "    \"ID\": range(1,1000001),\n",
    "    \"Value\": np.random.randint(1,100,1000000)\n",
    "})\n",
    "data"
   ]
  },
  {
   "cell_type": "code",
   "execution_count": 57,
   "id": "589e0a1d-03db-44be-8491-70787ba99431",
   "metadata": {},
   "outputs": [
    {
     "data": {
      "text/plain": [
       "ID         int32\n",
       "Value    float64\n",
       "dtype: object"
      ]
     },
     "execution_count": 57,
     "metadata": {},
     "output_type": "execute_result"
    }
   ],
   "source": [
    "data.dtypes"
   ]
  },
  {
   "cell_type": "code",
   "execution_count": 69,
   "id": "79167d1d-0835-4fa6-8fff-70c657526aa8",
   "metadata": {},
   "outputs": [],
   "source": [
    "# dùng .astype để tối ưu hóa bộ nhớ\n",
    "data['ID'] = data['ID'].astype(\"int32\")\n",
    "data['Value'] = data['Value'].astype(\"int8\")\n",
    "\n",
    "\n"
   ]
  },
  {
   "cell_type": "code",
   "execution_count": 70,
   "id": "c0d675ca-6b35-461a-bc7e-16c010178353",
   "metadata": {},
   "outputs": [
    {
     "name": "stdout",
     "output_type": "stream",
     "text": [
      "Top5: 78    10357\n",
      "53    10324\n",
      "3     10280\n",
      "92    10273\n",
      "36    10265\n",
      "Name: Value, dtype: int64\n"
     ]
    }
   ],
   "source": [
    "top5 = data['Value'] = data['Value'].value_counts().head()\n",
    "print(\"Top5:\",top5)"
   ]
  },
  {
   "cell_type": "code",
   "execution_count": 79,
   "id": "a58ba56a-e4a6-4cc0-b54a-2afc440f9dce",
   "metadata": {},
   "outputs": [
    {
     "data": {
      "text/html": [
       "<div>\n",
       "<style scoped>\n",
       "    .dataframe tbody tr th:only-of-type {\n",
       "        vertical-align: middle;\n",
       "    }\n",
       "\n",
       "    .dataframe tbody tr th {\n",
       "        vertical-align: top;\n",
       "    }\n",
       "\n",
       "    .dataframe thead th {\n",
       "        text-align: right;\n",
       "    }\n",
       "</style>\n",
       "<table border=\"1\" class=\"dataframe\">\n",
       "  <thead>\n",
       "    <tr style=\"text-align: right;\">\n",
       "      <th></th>\n",
       "      <th>ID</th>\n",
       "      <th>Value</th>\n",
       "    </tr>\n",
       "  </thead>\n",
       "  <tbody>\n",
       "    <tr>\n",
       "      <th>3</th>\n",
       "      <td>4</td>\n",
       "      <td>10280.0</td>\n",
       "    </tr>\n",
       "    <tr>\n",
       "      <th>36</th>\n",
       "      <td>37</td>\n",
       "      <td>10265.0</td>\n",
       "    </tr>\n",
       "    <tr>\n",
       "      <th>53</th>\n",
       "      <td>54</td>\n",
       "      <td>10324.0</td>\n",
       "    </tr>\n",
       "    <tr>\n",
       "      <th>78</th>\n",
       "      <td>79</td>\n",
       "      <td>10357.0</td>\n",
       "    </tr>\n",
       "    <tr>\n",
       "      <th>92</th>\n",
       "      <td>93</td>\n",
       "      <td>10273.0</td>\n",
       "    </tr>\n",
       "  </tbody>\n",
       "</table>\n",
       "</div>"
      ],
      "text/plain": [
       "    ID    Value\n",
       "3    4  10280.0\n",
       "36  37  10265.0\n",
       "53  54  10324.0\n",
       "78  79  10357.0\n",
       "92  93  10273.0"
      ]
     },
     "execution_count": 79,
     "metadata": {},
     "output_type": "execute_result"
    }
   ],
   "source": [
    "# sử dụng query để lọc dữ liệu nhanh hơn\n",
    "data.query(\"Value > 90\")"
   ]
  },
  {
   "cell_type": "markdown",
   "id": "f704e44a-bfd9-46d7-82b4-21018b362af5",
   "metadata": {},
   "source": [
    "## 3. MATPLOTLIB"
   ]
  },
  {
   "cell_type": "code",
   "execution_count": 82,
   "id": "01cf97dc-d640-464e-ab99-c82c54cac7a3",
   "metadata": {},
   "outputs": [],
   "source": [
    "# Biểu đồ nhiều đường\n",
    "import matplotlib.pyplot as plt\n",
    "\n",
    "t = np.linspace(0, 10, 100)\n",
    "y1 = np.sin(t)\n",
    "y2 = np.cos(t)\n",
    "y3 = np.sin(t) * np.cos(t)\n"
   ]
  },
  {
   "cell_type": "code",
   "execution_count": 91,
   "id": "f55bd705-f3bc-4762-85bf-d7122d12f055",
   "metadata": {},
   "outputs": [
    {
     "data": {
      "image/png": "[encoded data removed]",
      "text/plain": [
       "<Figure size 640x480 with 1 Axes>"
      ]
     },
     "metadata": {},
     "output_type": "display_data"
    }
   ],
   "source": [
    "# Tạo biểu đồ đường với nhiều đường\n",
    "plt.plot(t, y1, label='sin(t)', color='r')  \n",
    "plt.plot(t, y2, label='cos(t)', color='b')  \n",
    "plt.plot(t, y3, label='sin(t) * cos(t)', color='g')\n",
    "plt.grid()\n",
    "plt.xlabel(\"Thời gian (t)\")\n",
    "plt.ylabel(\"Giá trị\")\n",
    "plt.legend()\n",
    "plt.show()"
   ]
  },
  {
   "cell_type": "code",
   "execution_count": 93,
   "id": "ae3862cb-6ce6-4892-8b13-60d04290e91e",
   "metadata": {},
   "outputs": [],
   "source": [
    "# Biểu đồ thanh nhóm\n",
    "# Cho dữ liệu sau\n",
    "labels = [\"Q1\",\"Q2\",\"Q3\",\"Q4\"]\n",
    "A = [500, 700, 800, 600]\n",
    "B = [450, 350, 650, 750]\n",
    "C = [500, 250, 850, 600]"
   ]
  },
  {
   "cell_type": "code",
   "execution_count": 103,
   "id": "abfe28c9-ce71-4685-9550-a3030174d828",
   "metadata": {},
   "outputs": [
    {
     "data": {
      "image/png": "[encoded data removed]",
      "text/plain": [
       "<Figure size 1000x600 with 1 Axes>"
      ]
     },
     "metadata": {},
     "output_type": "display_data"
    }
   ],
   "source": [
    "# Vẽ biểu đồ thanh nhóm thể hiện doanh thu của A, B, C trong 4 quý\n",
    "import matplotlib.pyplot as plt\n",
    "import numpy as np\n",
    "\n",
    "labels = [\"Q1\", \"Q2\", \"Q3\", \"Q4\"]\n",
    "A = [500, 700, 800, 600]\n",
    "B = [450, 350, 650, 750]\n",
    "C = [500, 250, 850, 600]\n",
    "\n",
    "x = np.arange(len(labels))\n",
    "width = 0.25  \n",
    "\n",
    "plt.figure(figsize=(10, 6))\n",
    "plt.bar(x - width, A, width, label='A')\n",
    "plt.bar(x, B, width, label='B')\n",
    "plt.bar(x + width, C, width, label='C')\n",
    "\n",
    "plt.xlabel('Quý')\n",
    "plt.ylabel('Doanh thu')\n",
    "plt.title('Biểu đồ doanh thu theo quý')\n",
    "plt.xticks(x, labels)\n",
    "plt.legend()\n",
    "plt.grid()\n",
    "\n",
    "\n",
    "plt.show()"
   ]
  },
  {
   "cell_type": "code",
   "execution_count": 96,
   "id": "47e6ac05-8631-4c3f-aa6f-a547594f6209",
   "metadata": {},
   "outputs": [],
   "source": [
    "# Biểu đồ tròn \n",
    "Cty = [\"A\",\"B\",\"C\",\"D\"]\n",
    "thiphan= [30, 25, 25, 20]\n",
    "color = [\"#ff9999\",\"#66b3ff\",\"#99ff99\",\"#ffcc99\"]\n"
   ]
  },
  {
   "cell_type": "code",
   "execution_count": 104,
   "id": "ab4d56cd-b311-4b6e-9944-3ec5cb6d55ec",
   "metadata": {},
   "outputs": [
    {
     "data": {
      "image/png": "[encoded data removed]",
      "text/plain": [
       "<Figure size 800x800 with 1 Axes>"
      ]
     },
     "metadata": {},
     "output_type": "display_data"
    }
   ],
   "source": [
    "plt.figure(figsize=(8, 8))\n",
    "plt.pie(thiphan, labels=Cty, colors=color, autopct='%1.1f%%', startangle=90)\n",
    "plt.title('Tỉ lệ thị phần của các công ty')\n",
    "plt.axis('equal')\n",
    "plt.show()"
   ]
  },
  {
   "cell_type": "code",
   "execution_count": 110,
   "id": "f31da432-878f-48e5-991b-76aacd7cfcf9",
   "metadata": {},
   "outputs": [],
   "source": [
    "#Biểu đồ phân tán\n",
    "x = np.random.rand(100)\n",
    "y = np.random.rand(100)\n",
    "sizes = np.random.rand(100)*300\n",
    "colors = np.random.rand(100)"
   ]
  },
  {
   "cell_type": "code",
   "execution_count": 111,
   "id": "35ad34b7-c540-4bb9-9fba-12b48411941c",
   "metadata": {},
   "outputs": [
    {
     "data": {
      "image/png": "[encoded data removed]",
      "text/plain": [
       "<Figure size 1000x800 with 2 Axes>"
      ]
     },
     "metadata": {},
     "output_type": "display_data"
    }
   ],
   "source": [
    "# Tạo biểu đồ phân tán của hai biến ngẫu nhiên\n",
    "plt.figure(figsize=(10, 8))\n",
    "plt.scatter(x, y, s=sizes, c=colors, alpha=0.5, cmap='viridis')\n",
    "plt.title('Biểu đồ phân tán của hai biến ngẫu nhiên')\n",
    "plt.xlabel('Biến x')\n",
    "plt.ylabel('Biến y')\n",
    "plt.colorbar()\n",
    "plt.grid()\n",
    "plt.show()"
   ]
  },
  {
   "cell_type": "code",
   "execution_count": 112,
   "id": "0b39e063-3b1b-4049-be93-378305cc2606",
   "metadata": {},
   "outputs": [],
   "source": [
    "# Biểu đồ nhiệt\n",
    "data = np.random.rand(10,10)\n"
   ]
  },
  {
   "cell_type": "code",
   "execution_count": 114,
   "id": "bd0b9c90-2236-47e3-b92c-c2cf883dbd47",
   "metadata": {},
   "outputs": [
    {
     "data": {
      "image/png": "[encoded data removed]",
      "text/plain": [
       "<Figure size 1000x800 with 2 Axes>"
      ]
     },
     "metadata": {},
     "output_type": "display_data"
    }
   ],
   "source": [
    "# Vẽ 1 heatmap thể hiện sự phân bố của dữ liệu trên ma trận\n",
    "plt.figure(figsize=(10, 8))\n",
    "heatmap = plt.imshow(data, cmap='YlGnBu')\n",
    "plt.colorbar(heatmap)\n",
    "plt.title('Biểu đồ nhiệt của ma trận dữ liệu')\n",
    "plt.xlabel('Cột')\n",
    "plt.ylabel('Hàng')\n",
    "for i in range(10):\n",
    "    for j in range(10):\n",
    "        plt.text(j, i, f'{data[i, j]:.2f}', \n",
    "                ha='center', va='center')\n",
    "\n",
    "# Hiển thị biểu đồ\n",
    "plt.show()"
   ]
  },
  {
   "cell_type": "code",
   "execution_count": null,
   "id": "38447c86-fcd2-4e37-9085-3fd2d6c7179a",
   "metadata": {},
   "outputs": [],
   "source": []
  }
 ],
 "metadata": {
  "kernelspec": {
   "display_name": "Python 3 (ipykernel)",
   "language": "python",
   "name": "python3"
  },
  "language_info": {
   "codemirror_mode": {
    "name": "ipython",
    "version": 3
   },
   "file_extension": ".py",
   "mimetype": "text/x-python",
   "name": "python",
   "nbconvert_exporter": "python",
   "pygments_lexer": "ipython3",
   "version": "3.10.0"
  }
 },
 "nbformat": 4,
 "nbformat_minor": 5
}
