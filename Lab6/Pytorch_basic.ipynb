{
 "cells": [
  {
   "cell_type": "markdown",
   "id": "bf358b40-058b-416c-bbac-487ae86644c6",
   "metadata": {},
   "source": [
    "# CƠ BẢN VỀ PYTORCH"
   ]
  },
  {
   "cell_type": "code",
   "execution_count": 49,
   "id": "2a601f58-1729-4a7d-a7d3-94afe36ab0ed",
   "metadata": {},
   "outputs": [],
   "source": [
    "import torch"
   ]
  },
  {
   "cell_type": "code",
   "execution_count": 50,
   "id": "ce8be107-85ad-42be-83d9-0b9791f0afc3",
   "metadata": {},
   "outputs": [
    {
     "data": {
      "text/plain": [
       "False"
      ]
     },
     "execution_count": 50,
     "metadata": {},
     "output_type": "execute_result"
    }
   ],
   "source": [
    "torch.cuda.is_available()"
   ]
  },
  {
   "cell_type": "code",
   "execution_count": 51,
   "id": "b8dc1442-ce62-43e6-87db-092c3c84f57b",
   "metadata": {},
   "outputs": [],
   "source": [
    "# sử dụng GPU và Cuda "
   ]
  },
  {
   "cell_type": "code",
   "execution_count": 52,
   "id": "c076a631-ad64-4968-b35c-31aed1ee930d",
   "metadata": {},
   "outputs": [
    {
     "data": {
      "text/plain": [
       "<function torch.cuda.current_device() -> int>"
      ]
     },
     "execution_count": 52,
     "metadata": {},
     "output_type": "execute_result"
    }
   ],
   "source": [
    "torch.cuda.current_device"
   ]
  },
  {
   "cell_type": "code",
   "execution_count": 53,
   "id": "a055b31f-2e21-4e39-92fd-0cf5ff4a2894",
   "metadata": {},
   "outputs": [],
   "source": [
    "#torch.cuda.get_device_name(0)"
   ]
  },
  {
   "cell_type": "code",
   "execution_count": 54,
   "id": "1e85cd89",
   "metadata": {},
   "outputs": [
    {
     "data": {
      "text/plain": [
       "0"
      ]
     },
     "execution_count": 54,
     "metadata": {},
     "output_type": "execute_result"
    }
   ],
   "source": [
    "# Trả về mức sử dụng bộ nhớ gpu hiện tại theo tensors tính bằng byte cho thiết bị\n",
    "torch.cuda.memory_allocated()"
   ]
  },
  {
   "cell_type": "code",
   "execution_count": 55,
   "id": "9bb831d6-7e18-4fbc-a1ee-f8c928e60094",
   "metadata": {},
   "outputs": [
    {
     "name": "stderr",
     "output_type": "stream",
     "text": [
      "C:\\Users\\lhson\\AppData\\Local\\Temp\\ipykernel_49508\\4180954611.py:2: FutureWarning: `torch.cuda.memory_cached` has been renamed to `torch.cuda.memory_reserved`\n",
      "  torch.cuda.memory_cached()\n"
     ]
    },
    {
     "data": {
      "text/plain": [
       "0"
      ]
     },
     "execution_count": 55,
     "metadata": {},
     "output_type": "execute_result"
    }
   ],
   "source": [
    "# Trả về bộ nhớ GPU hiện tại đc quản lý bởi bộ phân bổ bộ nhớ đệm theo byte\n",
    "torch.cuda.memory_cached()"
   ]
  },
  {
   "cell_type": "markdown",
   "id": "38379f86-3e4e-4dfc-9848-e04b495ac697",
   "metadata": {},
   "source": [
    "Dataset with pytorch"
   ]
  },
  {
   "cell_type": "code",
   "execution_count": 56,
   "id": "952b8ffa-4da9-4a49-b01c-c1ccc179f3b2",
   "metadata": {},
   "outputs": [
    {
     "data": {
      "text/html": [
       "<div>\n",
       "<style scoped>\n",
       "    .dataframe tbody tr th:only-of-type {\n",
       "        vertical-align: middle;\n",
       "    }\n",
       "\n",
       "    .dataframe tbody tr th {\n",
       "        vertical-align: top;\n",
       "    }\n",
       "\n",
       "    .dataframe thead th {\n",
       "        text-align: right;\n",
       "    }\n",
       "</style>\n",
       "<table border=\"1\" class=\"dataframe\">\n",
       "  <thead>\n",
       "    <tr style=\"text-align: right;\">\n",
       "      <th></th>\n",
       "      <th>Id</th>\n",
       "      <th>SepalLengthCm</th>\n",
       "      <th>SepalWidthCm</th>\n",
       "      <th>PetalLengthCm</th>\n",
       "      <th>PetalWidthCm</th>\n",
       "      <th>Species</th>\n",
       "    </tr>\n",
       "  </thead>\n",
       "  <tbody>\n",
       "    <tr>\n",
       "      <th>0</th>\n",
       "      <td>1</td>\n",
       "      <td>5.1</td>\n",
       "      <td>3.5</td>\n",
       "      <td>1.4</td>\n",
       "      <td>0.2</td>\n",
       "      <td>Iris-setosa</td>\n",
       "    </tr>\n",
       "    <tr>\n",
       "      <th>1</th>\n",
       "      <td>2</td>\n",
       "      <td>4.9</td>\n",
       "      <td>3.0</td>\n",
       "      <td>1.4</td>\n",
       "      <td>0.2</td>\n",
       "      <td>Iris-setosa</td>\n",
       "    </tr>\n",
       "    <tr>\n",
       "      <th>2</th>\n",
       "      <td>3</td>\n",
       "      <td>4.7</td>\n",
       "      <td>3.2</td>\n",
       "      <td>1.3</td>\n",
       "      <td>0.2</td>\n",
       "      <td>Iris-setosa</td>\n",
       "    </tr>\n",
       "    <tr>\n",
       "      <th>3</th>\n",
       "      <td>4</td>\n",
       "      <td>4.6</td>\n",
       "      <td>3.1</td>\n",
       "      <td>1.5</td>\n",
       "      <td>0.2</td>\n",
       "      <td>Iris-setosa</td>\n",
       "    </tr>\n",
       "    <tr>\n",
       "      <th>4</th>\n",
       "      <td>5</td>\n",
       "      <td>5.0</td>\n",
       "      <td>3.6</td>\n",
       "      <td>1.4</td>\n",
       "      <td>0.2</td>\n",
       "      <td>Iris-setosa</td>\n",
       "    </tr>\n",
       "  </tbody>\n",
       "</table>\n",
       "</div>"
      ],
      "text/plain": [
       "   Id  SepalLengthCm  SepalWidthCm  PetalLengthCm  PetalWidthCm      Species\n",
       "0   1            5.1           3.5            1.4           0.2  Iris-setosa\n",
       "1   2            4.9           3.0            1.4           0.2  Iris-setosa\n",
       "2   3            4.7           3.2            1.3           0.2  Iris-setosa\n",
       "3   4            4.6           3.1            1.5           0.2  Iris-setosa\n",
       "4   5            5.0           3.6            1.4           0.2  Iris-setosa"
      ]
     },
     "execution_count": 56,
     "metadata": {},
     "output_type": "execute_result"
    }
   ],
   "source": [
    "# Loading data iris\n",
    "import pandas as pd\n",
    "import numpy as np\n",
    "import matplotlib.pyplot as plt\n",
    "\n",
    "df = pd.read_csv(\"Iris.csv\")\n",
    "df.head()\n",
    "# lấy ra bảng hoa iris"
   ]
  },
  {
   "cell_type": "code",
   "execution_count": 57,
   "id": "6952c09f-5b93-4317-aa8e-000d93f86fd0",
   "metadata": {},
   "outputs": [
    {
     "data": {
      "text/plain": [
       "(150, 6)"
      ]
     },
     "execution_count": 57,
     "metadata": {},
     "output_type": "execute_result"
    }
   ],
   "source": [
    "df.shape"
   ]
  },
  {
   "cell_type": "code",
   "execution_count": 58,
   "id": "50f62b8c-56de-48f5-93f2-f5ab51885d1a",
   "metadata": {},
   "outputs": [],
   "source": [
    "from sklearn.preprocessing import LabelEncoder\n",
    "from sklearn.model_selection import train_test_split\n",
    "\n",
    "le = LabelEncoder()\n",
    "X = df.drop(columns=['Species', 'Id'], axis= 1).values\n",
    "y = le.fit_transform(df['Species'].values)\n",
    "\n",
    "# chia dữ liệu thành tập train và test\n",
    "X_train, X_test, y_train, y_test = train_test_split(X, y, test_size=0.2, random_state=42)\n",
    "X_train = torch.FloatTensor(X_train)\n",
    "X_test = torch.FloatTensor(X_test)\n",
    "y_train = torch.LongTensor(y_train).reshape(-1,1)\n",
    "y_test = torch.LongTensor(y_test).reshape(-1,1)\n",
    "\n"
   ]
  },
  {
   "cell_type": "code",
   "execution_count": 59,
   "id": "4a0bb40d",
   "metadata": {},
   "outputs": [
    {
     "name": "stdout",
     "output_type": "stream",
     "text": [
      "Train size: 120\n"
     ]
    }
   ],
   "source": [
    "print(f\"Train size: {len(y_train)}\")"
   ]
  },
  {
   "cell_type": "code",
   "execution_count": 60,
   "id": "0f7bd66e",
   "metadata": {},
   "outputs": [
    {
     "name": "stdout",
     "output_type": "stream",
     "text": [
      "Labels: tensor([0, 1, 2])\n",
      "Counts: tensor([40, 41, 39])\n"
     ]
    }
   ],
   "source": [
    "labels, counts = y_train.unique(return_counts=True)\n",
    "print(f\"Labels: {labels}\\nCounts: {counts}\")"
   ]
  },
  {
   "cell_type": "code",
   "execution_count": 61,
   "id": "0c7b169a",
   "metadata": {},
   "outputs": [],
   "source": [
    "# Tính đạo hàm bằng pytorch\n",
    "\n",
    "# cho y = 2x^4 + x^3 + 3x^2 + 5x + 1\n",
    "\n",
    "# tính y'"
   ]
  },
  {
   "cell_type": "code",
   "execution_count": 62,
   "id": "f7b04ca4",
   "metadata": {},
   "outputs": [
    {
     "name": "stdout",
     "output_type": "stream",
     "text": [
      "tensor(2., requires_grad=True)\n",
      "None\n"
     ]
    }
   ],
   "source": [
    "# Tạo một tensor với requires_grad=True \n",
    "x = torch.tensor(2.0, requires_grad=True)\n",
    "print(x)\n",
    "print(x.grad)"
   ]
  },
  {
   "cell_type": "code",
   "execution_count": 63,
   "id": "1eddf8c1",
   "metadata": {},
   "outputs": [
    {
     "name": "stdout",
     "output_type": "stream",
     "text": [
      "tensor(63., grad_fn=<AddBackward0>)\n"
     ]
    }
   ],
   "source": [
    "# Định nghĩa hàm \n",
    "y = 2*x**4 + x**3 + 3*x**2 + 5*x + 1\n",
    "print(y)"
   ]
  },
  {
   "cell_type": "code",
   "execution_count": 64,
   "id": "1593c858",
   "metadata": {},
   "outputs": [
    {
     "data": {
      "text/plain": [
       "<AddBackward0 at 0x269fe3d3010>"
      ]
     },
     "execution_count": 64,
     "metadata": {},
     "output_type": "execute_result"
    }
   ],
   "source": [
    "y.grad_fn"
   ]
  },
  {
   "cell_type": "code",
   "execution_count": 65,
   "id": "7724b9b3",
   "metadata": {},
   "outputs": [
    {
     "data": {
      "text/plain": [
       "tensor(93.)"
      ]
     },
     "execution_count": 65,
     "metadata": {},
     "output_type": "execute_result"
    }
   ],
   "source": [
    "# Thực hiện việc truyền ngược và tính toán các gradient\n",
    "y.backward()\n",
    "\n",
    "# Kết quả đạo hàm\n",
    "x.grad"
   ]
  },
  {
   "cell_type": "code",
   "execution_count": null,
   "id": "5bb70c86",
   "metadata": {},
   "outputs": [],
   "source": []
  },
  {
   "cell_type": "code",
   "execution_count": 66,
   "id": "e207f711",
   "metadata": {},
   "outputs": [
    {
     "name": "stdout",
     "output_type": "stream",
     "text": [
      "Độ dốc của đa thức tại điểm:  tensor(1161.)\n"
     ]
    }
   ],
   "source": [
    "# Bài tập\n",
    "# Tính y' của y = 5x^6 + 3x^3 + 2x^1 + x + 2x + 5x^4 + 1\n",
    "\n",
    "# Cho biết độ dốc của đa thức trên tại điểm nào\n",
    "\n",
    "x = torch.tensor(2.0, requires_grad=True)\n",
    "y = 5*x**6 + 3*x**3 + 2*x**1 + x + 2*x + 5*x**4 + 1\n",
    "y.grad_fn\n",
    "y.backward()\n",
    "print(\"Độ dốc của đa thức tại điểm: \", x.grad)\n"
   ]
  },
  {
   "cell_type": "code",
   "execution_count": 67,
   "id": "d9911ce4",
   "metadata": {},
   "outputs": [],
   "source": [
    "# BTVN 1:\n",
    "# Tạo một tensor x có giá trị ban đầu là 2.0\n",
    "# Định nghĩa hàm số và tính gradient\n",
    "# y = x^3 + 2x^2 + 5x + 1\n",
    "# Hãy tính dy/dx tại giá trị của x\n",
    "# Dùng phương pháp gradient descent với learning rate alpha = 0.1 để cập nhật giá trị x trong 10 vòng lặp\n",
    "\n",
    "# BTVN 2:\n",
    "# Tạo một tập dữ liệu giả lập với x là số giờ học (ngẫu nhiên từ 1 - 10) và y là số điểm được tính theo công thức y = 3x + 5+ noise\n",
    "# với noise là một giá trị ngẫu nhiên nhỏ\n",
    "# 1. Khởi tạo tham số w và b ngẫu nhiên với requires_grad=True\n",
    "# 2. Tính MSE\n",
    "# 3. Tính gradient\n",
    "# 4. Cập nhật tham số w và b bằng gradient descent với learning rate alpha = 0.01\n",
    "# 5. Lặp lại quá trình 2-4 trong 1000 vòng lặp và quan sát sự hội tụ của mô hình\n"
   ]
  },
  {
   "cell_type": "code",
   "execution_count": 68,
   "id": "57adb1cf",
   "metadata": {},
   "outputs": [],
   "source": [
    "# BTVN 1:\n",
    "x = torch.tensor(2.0, requires_grad=True)"
   ]
  },
  {
   "cell_type": "code",
   "execution_count": 69,
   "id": "9cd3a3ad",
   "metadata": {},
   "outputs": [],
   "source": [
    "# Learning rate\n",
    "alpha = 0.1"
   ]
  },
  {
   "cell_type": "code",
   "execution_count": 70,
   "id": "36532476",
   "metadata": {},
   "outputs": [],
   "source": [
    "# Số vòng lặp\n",
    "num_iterations = 10"
   ]
  },
  {
   "cell_type": "code",
   "execution_count": 71,
   "id": "154e9d44",
   "metadata": {},
   "outputs": [
    {
     "name": "stdout",
     "output_type": "stream",
     "text": [
      "Vòng lặp 1: x = -0.5\n",
      "Vòng lặp 2: x = -0.875\n",
      "Vòng lặp 3: x = -1.2546875476837158\n",
      "Vòng lặp 4: x = -1.7250847816467285\n",
      "Vòng lặp 5: x = -2.427826166152954\n",
      "Vòng lặp 6: x = -3.7249975204467773\n",
      "Vòng lặp 7: x = -6.897680282592773\n",
      "Vòng lặp 8: x = -18.912006378173828\n",
      "Vòng lặp 9: x = -119.14640808105469\n",
      "Vòng lặp 10: x = -4330.74755859375\n"
     ]
    }
   ],
   "source": [
    "# Lặp lại quá trình cập nhật theo Gradient Descent\n",
    "for i in range(num_iterations):\n",
    "    y = x**3 + 2*x**2 + 5*x + 1\n",
    "    y.backward()  # Tính gradient của y theo x\n",
    "    with torch.no_grad():  \n",
    "        x -= alpha * x.grad \n",
    "        x.grad.zero_()  \n",
    "    print(f\"Vòng lặp {i+1}: x = {x.item()}\")\n"
   ]
  },
  {
   "cell_type": "code",
   "execution_count": 72,
   "id": "e647c6a2",
   "metadata": {},
   "outputs": [
    {
     "name": "stdout",
     "output_type": "stream",
     "text": [
      "Giá trị tối ưu của x sau 10 vòng lặp: -4330.74755859375\n"
     ]
    }
   ],
   "source": [
    "# Kết quả cuối cùng sau 10 vòng lặp\n",
    "print(f\"Giá trị tối ưu của x sau {num_iterations} vòng lặp: {x.item()}\")"
   ]
  },
  {
   "cell_type": "code",
   "execution_count": 73,
   "id": "eeedc94e",
   "metadata": {},
   "outputs": [],
   "source": [
    "# BTVN 2:\n",
    "# Tạo dữ liệu giả lập\n",
    "torch.manual_seed(42)  # Để kết quả tái lặp\n",
    "x = torch.randint(1, 11, (50, 1), dtype=torch.float32)  # 50 điểm dữ liệu, giá trị từ 1 đến 10\n",
    "noise = torch.randn(50, 1) * 2  # Nhiễu nhỏ\n",
    "y = 3 * x + 5 + noise  # Công thức y = 3x + 5 + noise"
   ]
  },
  {
   "cell_type": "code",
   "execution_count": 74,
   "id": "6bdaf30b",
   "metadata": {},
   "outputs": [],
   "source": [
    "#Khởi tạo tham số w, b ngẫu nhiên\n",
    "w = torch.randn(1, requires_grad=True)\n",
    "b = torch.randn(1, requires_grad=True)"
   ]
  },
  {
   "cell_type": "code",
   "execution_count": 75,
   "id": "14809ebe",
   "metadata": {},
   "outputs": [],
   "source": [
    "#Huấn luyện mô hình với Gradient Descent\n",
    "learning_rate = 0.01 # Tốc độ học\n",
    "epochs = 1000  # Số vòng lặp"
   ]
  },
  {
   "cell_type": "code",
   "execution_count": 76,
   "id": "b50f3997",
   "metadata": {},
   "outputs": [
    {
     "name": "stdout",
     "output_type": "stream",
     "text": [
      "Epoch 0, Loss: 753.3033, w: 2.8159, b: -0.0599\n",
      "Epoch 100, Loss: 6.1925, w: 3.4777, b: 1.8417\n",
      "Epoch 200, Loss: 4.7286, w: 3.3064, b: 3.0278\n",
      "Epoch 300, Loss: 4.0705, w: 3.1915, b: 3.8230\n",
      "Epoch 400, Loss: 3.7747, w: 3.1144, b: 4.3562\n",
      "Epoch 500, Loss: 3.6418, w: 3.0628, b: 4.7136\n",
      "Epoch 600, Loss: 3.5820, w: 3.0281, b: 4.9533\n",
      "Epoch 700, Loss: 3.5551, w: 3.0049, b: 5.1139\n",
      "Epoch 800, Loss: 3.5430, w: 2.9894, b: 5.2217\n",
      "Epoch 900, Loss: 3.5376, w: 2.9789, b: 5.2939\n"
     ]
    }
   ],
   "source": [
    "# Lặp qua số lượng epoch cho trước\n",
    "for epoch in range(epochs):\n",
    "    # Dự đoán giá trị y\n",
    "    y_pred = w * x + b\n",
    "    \n",
    "    # Tính MSE loss\n",
    "    loss = torch.mean((y_pred - y) ** 2)\n",
    "\n",
    "    # Tính gradient\n",
    "    loss.backward()\n",
    "\n",
    "    # Cập nhật tham số\n",
    "    with torch.no_grad():  # Tắt gradient tracking\n",
    "        w -= learning_rate * w.grad\n",
    "        b -= learning_rate * b.grad\n",
    "\n",
    "    # Xóa gradient sau mỗi vòng lặp\n",
    "    w.grad.zero_()\n",
    "    b.grad.zero_()\n",
    "\n",
    "    # In loss sau mỗi 100 epoch\n",
    "    if epoch % 100 == 0:\n",
    "        print(f\"Epoch {epoch}, Loss: {loss.item():.4f}, w: {w.item():.4f}, b: {b.item():.4f}\")\n"
   ]
  },
  {
   "cell_type": "code",
   "execution_count": 77,
   "id": "8250f7a1",
   "metadata": {},
   "outputs": [
    {
     "name": "stdout",
     "output_type": "stream",
     "text": [
      "Final parameters - w: 2.9720, b: 5.3419\n"
     ]
    }
   ],
   "source": [
    "print(f\"Final parameters - w: {w.item():.4f}, b: {b.item():.4f}\")"
   ]
  },
  {
   "cell_type": "code",
   "execution_count": 78,
   "id": "75afaf57",
   "metadata": {},
   "outputs": [],
   "source": [
    "# Pytorch with tensor\n",
    "import torch\n",
    "import numpy as np"
   ]
  },
  {
   "cell_type": "code",
   "execution_count": 79,
   "id": "a630c7b8",
   "metadata": {},
   "outputs": [
    {
     "data": {
      "text/plain": [
       "'2.5.1+cpu'"
      ]
     },
     "execution_count": 79,
     "metadata": {},
     "output_type": "execute_result"
    }
   ],
   "source": [
    "torch.__version__"
   ]
  },
  {
   "cell_type": "code",
   "execution_count": 80,
   "id": "17e96ab2",
   "metadata": {},
   "outputs": [
    {
     "name": "stdout",
     "output_type": "stream",
     "text": [
      "[1 2 3 4 5]\n",
      "int32\n",
      "<class 'numpy.ndarray'>\n"
     ]
    }
   ],
   "source": [
    "# Chuyển đổi mảng numpy sang tensor pytorch\n",
    "arr = np.array([1, 2, 3, 4, 5])# Mảng numpy\n",
    "print(arr)\n",
    "print(arr.dtype)\n",
    "print(type(arr))"
   ]
  },
  {
   "cell_type": "code",
   "execution_count": 81,
   "id": "f08b5e3f",
   "metadata": {},
   "outputs": [
    {
     "name": "stdout",
     "output_type": "stream",
     "text": [
      "tensor([1, 2, 3, 4, 5], dtype=torch.int32)\n"
     ]
    }
   ],
   "source": [
    "x = torch.from_numpy(arr) # Chuyển mảng numpy sang tensor\n",
    "print(x)"
   ]
  },
  {
   "cell_type": "code",
   "execution_count": 82,
   "id": "002d1980",
   "metadata": {},
   "outputs": [
    {
     "name": "stdout",
     "output_type": "stream",
     "text": [
      "torch.int32\n",
      "<class 'torch.Tensor'>\n"
     ]
    }
   ],
   "source": [
    "print(x.dtype)\n",
    "print(type(x))"
   ]
  },
  {
   "cell_type": "code",
   "execution_count": 83,
   "id": "cde4cbd7",
   "metadata": {},
   "outputs": [
    {
     "data": {
      "text/plain": [
       "array([[ 0.,  1.,  2.],\n",
       "       [ 3.,  4.,  5.],\n",
       "       [ 6.,  7.,  8.],\n",
       "       [ 9., 10., 11.]])"
      ]
     },
     "execution_count": 83,
     "metadata": {},
     "output_type": "execute_result"
    }
   ],
   "source": [
    "arr2 = np.arange(0.,12.).reshape(4,3)\n",
    "arr2"
   ]
  },
  {
   "cell_type": "code",
   "execution_count": 84,
   "id": "a500c68f",
   "metadata": {},
   "outputs": [
    {
     "name": "stdout",
     "output_type": "stream",
     "text": [
      "tensor([[ 0.,  1.,  2.],\n",
      "        [ 3.,  4.,  5.],\n",
      "        [ 6.,  7.,  8.],\n",
      "        [ 9., 10., 11.]], dtype=torch.float64)\n",
      "torch.DoubleTensor\n"
     ]
    }
   ],
   "source": [
    "x2 = torch.from_numpy(arr2)\n",
    "print(x2)\n",
    "print(x2.type())"
   ]
  },
  {
   "cell_type": "code",
   "execution_count": 85,
   "id": "3658734f",
   "metadata": {},
   "outputs": [
    {
     "name": "stdout",
     "output_type": "stream",
     "text": [
      "tensor([0, 1, 2, 3, 4], dtype=torch.int32)\n"
     ]
    }
   ],
   "source": [
    "arr = np.arange(0, 5)\n",
    "x = torch.from_numpy(arr)\n",
    "print(x)"
   ]
  },
  {
   "cell_type": "code",
   "execution_count": 86,
   "id": "1a69ee7f",
   "metadata": {},
   "outputs": [
    {
     "name": "stdout",
     "output_type": "stream",
     "text": [
      "tensor([99,  1,  2,  3,  4], dtype=torch.int32)\n"
     ]
    }
   ],
   "source": [
    "arr[0] = 99\n",
    "print(x)"
   ]
  },
  {
   "cell_type": "code",
   "execution_count": 87,
   "id": "330e318a",
   "metadata": {},
   "outputs": [
    {
     "name": "stdout",
     "output_type": "stream",
     "text": [
      "tensor([0, 1, 2, 3, 4], dtype=torch.int32)\n"
     ]
    }
   ],
   "source": [
    "arr = np.arange(0, 5)\n",
    "x = torch.tensor(arr)\n",
    "print(x)"
   ]
  },
  {
   "cell_type": "code",
   "execution_count": 88,
   "id": "0750f41d",
   "metadata": {},
   "outputs": [
    {
     "name": "stdout",
     "output_type": "stream",
     "text": [
      "tensor([0, 1, 2, 3, 4], dtype=torch.int32)\n"
     ]
    }
   ],
   "source": [
    "arr[0] = 99\n",
    "print(x)"
   ]
  },
  {
   "cell_type": "code",
   "execution_count": 89,
   "id": "7b799278",
   "metadata": {},
   "outputs": [],
   "source": [
    "# BTVN 3: Giải thích lý do tại sao cho 2 trường hợp trên"
   ]
  },
  {
   "cell_type": "markdown",
   "id": "38a3ec7a",
   "metadata": {},
   "source": [
    "torch.from_numpy(arr)\n",
    "\n",
    "Tạo một tensor chia sẻ bộ nhớ với mảng NumPy gốc (arr)\n",
    "Nếu thay đổi arr, giá trị trong tensor x cũng thay đổi\n",
    "\n",
    "torch.tensor(arr)\n",
    "\n",
    "Tạo một tensor mới độc lập với arr\n",
    "Nếu thay đổi arr, giá trị trong tensor x không bị ảnh hưởng"
   ]
  },
  {
   "cell_type": "code",
   "execution_count": 90,
   "id": "4a422661",
   "metadata": {},
   "outputs": [],
   "source": [
    "# BTVN 4: bạn hãy giúp thầy về nhà tạo tensor với:\n",
    "# Empyty\n",
    "# Zeros\n",
    "# Ones\n",
    "# Random\n",
    "# Reshape với view và view as\n",
    "\n",
    "\n",
    "# Deadline: 23h59 ngày 16/03/2025"
   ]
  },
  {
   "cell_type": "code",
   "execution_count": 91,
   "id": "1ec11423",
   "metadata": {},
   "outputs": [
    {
     "name": "stdout",
     "output_type": "stream",
     "text": [
      "tensor([[-1.6287e+37,  1.0734e-42,  0.0000e+00],\n",
      "        [ 0.0000e+00,  0.0000e+00,  0.0000e+00]])\n"
     ]
    }
   ],
   "source": [
    "# Tạo tensor với empty\n",
    "empty_tensor = torch.empty(2, 3)\n",
    "print(empty_tensor)"
   ]
  },
  {
   "cell_type": "code",
   "execution_count": 92,
   "id": "4c94adeb",
   "metadata": {},
   "outputs": [
    {
     "name": "stdout",
     "output_type": "stream",
     "text": [
      "tensor([[0., 0., 0.],\n",
      "        [0., 0., 0.]])\n"
     ]
    }
   ],
   "source": [
    "# Tensor với zeros\n",
    "zeros_tensor = torch.zeros(2, 3)\n",
    "print(zeros_tensor)"
   ]
  },
  {
   "cell_type": "code",
   "execution_count": 93,
   "id": "795e451f",
   "metadata": {},
   "outputs": [
    {
     "name": "stdout",
     "output_type": "stream",
     "text": [
      "tensor([[1., 1., 1.],\n",
      "        [1., 1., 1.]])\n"
     ]
    }
   ],
   "source": [
    "# Tensor với ones\n",
    "ones_tensor = torch.ones(2, 3)\n",
    "print(ones_tensor)"
   ]
  },
  {
   "cell_type": "code",
   "execution_count": 94,
   "id": "aa9dd4f2",
   "metadata": {},
   "outputs": [
    {
     "name": "stdout",
     "output_type": "stream",
     "text": [
      "tensor([[0.5014, 0.3139, 0.4654],\n",
      "        [0.1612, 0.1568, 0.2083]])\n"
     ]
    }
   ],
   "source": [
    "# Tensor với random\n",
    "random_tensor = torch.rand(2, 3)\n",
    "print(random_tensor)"
   ]
  },
  {
   "cell_type": "code",
   "execution_count": 95,
   "id": "cf328b5d",
   "metadata": {},
   "outputs": [
    {
     "name": "stdout",
     "output_type": "stream",
     "text": [
      "tensor([[0.5014, 0.3139],\n",
      "        [0.4654, 0.1612],\n",
      "        [0.1568, 0.2083]])\n"
     ]
    }
   ],
   "source": [
    "# Reshape tensor với view\n",
    "reshape_tensor_view = random_tensor.view(3, 2)\n",
    "print(reshape_tensor_view)"
   ]
  },
  {
   "cell_type": "code",
   "execution_count": 96,
   "id": "2f4395cd",
   "metadata": {},
   "outputs": [
    {
     "name": "stdout",
     "output_type": "stream",
     "text": [
      "tensor([[0.5014, 0.3139, 0.4654],\n",
      "        [0.1612, 0.1568, 0.2083]])\n"
     ]
    }
   ],
   "source": [
    "# Reshape tensor với view_as\n",
    "reshape_tensor_view_as = random_tensor.view_as(ones_tensor)\n",
    "print(reshape_tensor_view_as)"
   ]
  },
  {
   "cell_type": "code",
   "execution_count": null,
   "id": "c3e02654",
   "metadata": {},
   "outputs": [],
   "source": []
  }
 ],
 "metadata": {
  "kernelspec": {
   "display_name": "Python 3",
   "language": "python",
   "name": "python3"
  },
  "language_info": {
   "codemirror_mode": {
    "name": "ipython",
    "version": 3
   },
   "file_extension": ".py",
   "mimetype": "text/x-python",
   "name": "python",
   "nbconvert_exporter": "python",
   "pygments_lexer": "ipython3",
   "version": "3.10.0"
  }
 },
 "nbformat": 4,
 "nbformat_minor": 5
}
